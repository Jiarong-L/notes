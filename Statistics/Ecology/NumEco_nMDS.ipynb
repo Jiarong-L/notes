{
 "cells": [
  {
   "cell_type": "markdown",
   "id": "bdaa57c4-2324-41e1-aff0-7fc5599b3acd",
   "metadata": {},
   "source": [
    "## nMDS\n",
    "\n",
    "\n",
    "1. 初始化样本点在n维ordination空间中的坐标（常以PCoA结果为初始坐标）\n",
    "2. Regress $d_{hi}$ on $D_{hi}$，预测值 $\\hat{d_{hi}}$；常用 regression: linear, polynomial, monotone(nonparametric)\n",
    "    - $d_{hi}$: distance in ordination space，一般是欧氏距离\n",
    "    - $D_{hi}$: distance in original space\n",
    "    - $\\hat{d_{hi}}$: Regression model 的预测值\n",
    "    - Hint: if $D_{gi} < D_{hi}$ then $\\hat{d_{gi}} \\le \\hat{d_{hi}}$  (即回归结果中保留了距离的秩次信息)\n",
    "3. 计算Stress\n",
    "    - (formula 1) $Stress = \\sqrt{\\sum\\limits_{h,i}(d_{hi}-\\hat{d_{hi}})^2/\\sum\\limits_{h,i}d_{hi}^2}$\n",
    "    - (formula 2) $Stress = \\sqrt{\\sum\\limits_{h,i}(d_{hi}-\\hat{d_{hi}})^2/\\sum\\limits_{h,i}(d_{hi}-\\overline{d})^2}$\n",
    "    - $Sstress = \\sqrt{ \\sum\\limits_{h,i}(d_{hi}^2-\\hat{d_{hi}}^2)^2  }$\n",
    "4. 以减小Stress为优化目标，修改ordination空间中的坐标\n",
    "\n",
    "（重复2-4直到Stress最优）\n",
    "\n",
    "\n"
   ]
  },
  {
   "cell_type": "code",
   "execution_count": null,
   "id": "f962a691-9cac-4345-8aba-ff1abbeacd58",
   "metadata": {},
   "outputs": [],
   "source": []
  },
  {
   "cell_type": "markdown",
   "id": "2b0cd3ec-54d7-4f22-9f54-413fbf15ef67",
   "metadata": {},
   "source": [
    "## 关于Vegan\n",
    "\n",
    "```R\n",
    "library(vegan)\n",
    "Y = t(matrix( c(2,3,5,7,9,1,4,0,6,2), ncol = 5,byrow = TRUE))\n",
    "D <- dist(Y)\n",
    "res <- metaMDS(D,k=2)\n",
    "```\n",
    "\n",
    "结果\n",
    "\n",
    "```R\n",
    "> res$stress\n",
    "[1] 0\n",
    "> res$points\n",
    "       MDS1          MDS2\n",
    "1 -3.577709 -1.710012e-15\n",
    "2 -1.341641 -2.236068e+00\n",
    "3 -1.341641  2.236068e+00\n",
    "4  3.130495 -2.236068e+00\n",
    "5  3.130495  2.236068e+00\n",
    "```\n"
   ]
  },
  {
   "cell_type": "code",
   "execution_count": null,
   "id": "c8d66ef5-2178-4b3c-a128-f257aaf478ac",
   "metadata": {},
   "outputs": [],
   "source": []
  }
 ],
 "metadata": {
  "kernelspec": {
   "display_name": "Python 3 (ipykernel)",
   "language": "python",
   "name": "python3"
  },
  "language_info": {
   "codemirror_mode": {
    "name": "ipython",
    "version": 3
   },
   "file_extension": ".py",
   "mimetype": "text/x-python",
   "name": "python",
   "nbconvert_exporter": "python",
   "pygments_lexer": "ipython3",
   "version": "3.12.1"
  }
 },
 "nbformat": 4,
 "nbformat_minor": 5
}

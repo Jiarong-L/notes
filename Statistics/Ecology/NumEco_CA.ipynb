{
 "cells": [
  {
   "cell_type": "code",
   "execution_count": 1,
   "id": "bcf663aa-6c97-4ef2-803f-33d11319f4d2",
   "metadata": {},
   "outputs": [],
   "source": [
    "import numpy as np\n",
    "import pandas as pd\n",
    "import scipy.linalg as linalg\n",
    "import torch\n",
    "import matplotlib.pyplot as plt\n",
    "from sklearn.metrics.pairwise import euclidean_distances\n",
    "d = 2"
   ]
  },
  {
   "cell_type": "markdown",
   "id": "2fef1a98-9210-4b56-b7ef-528dabe66d06",
   "metadata": {},
   "source": [
    "## Correspondence analysis(CA) - Using Q matrix\n",
    "\n",
    "(Numerical Ecology, ch9.2) 假设有一个Species丰度矩阵Y，每行代表一个样本，每列代表一个descriptor/feature; **row>=column**\n",
    "\n",
    "$\\begin{gather}Sample \n",
    "    \\underbrace{\\begin{bmatrix}\n",
    "\t\t...  \\\\... \\\\...\n",
    "\t\t\\end{bmatrix}}_{Feature}\n",
    "\\end{gather}$\n",
    "\n",
    "\n",
    "1. 计算Q: q_ij 是相对频率\n",
    "    - Q总和=1\n",
    "    - q_ij >= 0\n",
    "2. 计算$\\overline{Q}$:  $\\overline{q_{ij}}=\\frac{p_{ij}-p_{i+}p_{+j}}{\\sqrt{p_{i+}p_{+j}}} \\approx \\frac{O_{ij}-E_{ij}}{\\sqrt{E_{ij}}}$ 近似 $\\chi^2_{ij}$\n",
    "3. SVD分解：$\\overline{Q} = UWV'$\n",
    "\n",
    "\n",
    "应用：**rare species 对卡方距离的贡献较大！！！** （在原空间的卡方距离==在CA空间的欧氏距离）如果不关注稀有物种，则可以逐步移除它们，关注Eigenvalues的变化"
   ]
  },
  {
   "cell_type": "code",
   "execution_count": 2,
   "id": "6282c2c2-f13b-4dcf-91dc-19b8210dedcd",
   "metadata": {},
   "outputs": [
    {
     "data": {
      "text/plain": [
       "matrix([[10, 10, 20],\n",
       "        [10, 15, 10],\n",
       "        [15,  5,  5]])"
      ]
     },
     "execution_count": 2,
     "metadata": {},
     "output_type": "execute_result"
    }
   ],
   "source": [
    "Y = np.matrix([[10,10,20],        ## r=row=i=sample, c=column=j=feature--->ca-axis_d=2\n",
    "               [10,15,10],\n",
    "               [15,5,5]])\n",
    "\n",
    "Y"
   ]
  },
  {
   "cell_type": "code",
   "execution_count": 3,
   "id": "b80ab0f8-9f35-4006-a805-e34b2be36e4f",
   "metadata": {},
   "outputs": [
    {
     "data": {
      "text/plain": [
       "(matrix([[0.1 , 0.1 , 0.2 ],\n",
       "         [0.1 , 0.15, 0.1 ],\n",
       "         [0.15, 0.05, 0.05]]),\n",
       " matrix([[0.35, 0.3 , 0.35]]),\n",
       " matrix([[0.4 ],\n",
       "         [0.35],\n",
       "         [0.25]]))"
      ]
     },
     "execution_count": 3,
     "metadata": {},
     "output_type": "execute_result"
    }
   ],
   "source": [
    "Q = Y / Y.sum()\n",
    "p_j = Q.sum(0)   ## sum of each column  p_+j   Feature 的边缘概率\n",
    "p_i = Q.sum(1)   ## sum of each row     p_i+   Sample 的边缘概率\n",
    "Q,p_j,p_i"
   ]
  },
  {
   "cell_type": "code",
   "execution_count": 4,
   "id": "6fc8e8f4-a329-49b3-91bd-bef8cc970648",
   "metadata": {},
   "outputs": [
    {
     "data": {
      "text/plain": [
       "matrix([[-0.1069045 , -0.05773503,  0.16035675],\n",
       "        [-0.06428571,  0.13887301, -0.06428571],\n",
       "        [ 0.21128856, -0.09128709, -0.12677314]])"
      ]
     },
     "execution_count": 4,
     "metadata": {},
     "output_type": "execute_result"
    }
   ],
   "source": [
    "Q_bar = (Q - p_i @ p_j) / np.sqrt(p_i @ p_j)\n",
    "Q_bar"
   ]
  },
  {
   "cell_type": "code",
   "execution_count": 5,
   "id": "e280c88a-b32c-4e13-96a9-bd090094da8c",
   "metadata": {},
   "outputs": [
    {
     "data": {
      "text/plain": [
       "matrix([[0.26726124, 0.28867513, 0.53452248],\n",
       "        [0.28571429, 0.46291005, 0.28571429],\n",
       "        [0.50709255, 0.18257419, 0.16903085]])"
      ]
     },
     "execution_count": 5,
     "metadata": {},
     "output_type": "execute_result"
    }
   ],
   "source": [
    "Q_tilde = Q / np.sqrt(p_i @ p_j)         ## non-centered Q_bar\n",
    "Q_tilde"
   ]
  },
  {
   "cell_type": "code",
   "execution_count": 6,
   "id": "d7737af1-8185-4f0e-9f12-02f2b432025d",
   "metadata": {},
   "outputs": [
    {
     "data": {
      "text/plain": [
       "(array([[-0.53692695, -0.55830946],\n",
       "        [-0.1304251 ,  0.79560624],\n",
       "        [ 0.8334859 , -0.23516219]]),\n",
       " array([0.31005325, 0.20234084]),\n",
       " array([[ 0.78015766, -0.20335691],\n",
       "        [-0.20383447,  0.81145025],\n",
       "        [-0.59144361, -0.54790004]]))"
      ]
     },
     "execution_count": 6,
     "metadata": {},
     "output_type": "execute_result"
    }
   ],
   "source": [
    "U, W, V = linalg.svd(Q_bar)             ## U(r×c) W(c×c) V'(c×c)=Q(r×c) ---  U @ np.diag(W) @ V' == Q_bar\n",
    "U = U[:,:d]                             ## The normalized eigenvectors of (  Q_bar @ Q_bar.T)\n",
    "W = W[:d]\n",
    "V = V.T[:,:d]                           ## The normalized eigenvectors of (Q_bar.T @ Q_bar)\n",
    "\n",
    "U[:,1] = -U[:,1]\n",
    "V[:,1] = -V[:,1]\n",
    "\n",
    "U, W, V                                 ##  U(r×2)  W(2×2)  V(c×2) "
   ]
  },
  {
   "cell_type": "markdown",
   "id": "019cb776-f5c0-4d50-ac61-ff51970e3619",
   "metadata": {},
   "source": [
    "### Scaling type 2\n",
    "\n",
    "U = $\\begin{gather}Sample (Lake1..)\n",
    "    \\underbrace{\\begin{bmatrix}\n",
    "\t\t...  \\\\... \\\\...\n",
    "\t\t\\end{bmatrix}}_{\\lambda}\n",
    "\\end{gather}$\n",
    "\n",
    "\n",
    "1. Weight U's each rows by its 1/sqrt(Feature的边缘概率)\n",
    "2. Freq: normalize Q (Sample的边缘概率=1)\n",
    "\n",
    "F1 = $\\begin{gather}Sample \n",
    "    \\underbrace{\\begin{bmatrix}\n",
    "\t\t...  \\\\... \\\\...\n",
    "\t\t\\end{bmatrix}}_{\\lambda}\n",
    "\\end{gather}$  = Weight @ U \n",
    "\n",
    "F2 = $\\begin{gather}Feature \n",
    "    \\underbrace{\\begin{bmatrix}\n",
    "\t\t...  \\\\... \\\\...\n",
    "\t\t\\end{bmatrix}}_{\\lambda}\n",
    "\\end{gather}$  = Freq @ F1 \n",
    "\n",
    "\n",
    "F1,F2 就是在CA-axis中的坐标\n"
   ]
  },
  {
   "cell_type": "code",
   "execution_count": 7,
   "id": "75d82904-918e-4047-9117-5a417a02e4ac",
   "metadata": {},
   "outputs": [
    {
     "data": {
      "text/plain": [
       "(array([[-0.84895605, -0.88276476],\n",
       "        [-0.22045865,  1.34482   ],\n",
       "        [ 1.6669718 , -0.47032439]]),\n",
       " matrix([[ 0.40886943, -0.06955181],\n",
       "         [-0.11538604,  0.29976768],\n",
       "         [-0.3099671 , -0.18739192]]))"
      ]
     },
     "execution_count": 7,
     "metadata": {},
     "output_type": "execute_result"
    }
   ],
   "source": [
    "Weight = np.diag(np.array(p_i).squeeze()**(-1/2))          ## D_i^(–1/2)\n",
    "Freq = np.diag(np.array(p_j).squeeze()**(-1)) @ Q.T   \n",
    "F1 = Weight @ U                  \n",
    "F2 = Freq @ Weight @ U           \n",
    "F1,F2"
   ]
  },
  {
   "cell_type": "code",
   "execution_count": 8,
   "id": "45099ade-7c79-41eb-a982-9d098f1924a5",
   "metadata": {},
   "outputs": [
    {
     "data": {
      "text/plain": [
       "array([[0.        , 0.64128051, 0.72843136],\n",
       "       [0.64128051, 0.        , 0.52458199],\n",
       "       [0.72843136, 0.52458199, 0.        ]])"
      ]
     },
     "execution_count": 8,
     "metadata": {},
     "output_type": "execute_result"
    }
   ],
   "source": [
    "D = euclidean_distances(np.asarray(F2), np.asarray(F2))    ##   F2中Feature间欧氏距离==原空间chi^2距离\n",
    "D"
   ]
  },
  {
   "cell_type": "code",
   "execution_count": 9,
   "id": "d3b4d61e-4118-4875-b0fe-e50e0eb65eff",
   "metadata": {},
   "outputs": [
    {
     "data": {
      "text/plain": [
       "<matplotlib.collections.PathCollection at 0x237730c5250>"
      ]
     },
     "execution_count": 9,
     "metadata": {},
     "output_type": "execute_result"
    },
    {
     "data": {
      "image/png": "[encoded data removed]",
      "text/plain": [
       "<Figure size 300x300 with 1 Axes>"
      ]
     },
     "metadata": {},
     "output_type": "display_data"
    }
   ],
   "source": [
    "fig=plt.figure(figsize=(3,3))\n",
    "plt.scatter(np.array(F1[:,0]).squeeze(),np.array(F1[:,1]).squeeze(),c='b')   ## samples: Lake1/2/3\n",
    "plt.scatter(np.array(F2[:,0]).squeeze(),np.array(F2[:,1]).squeeze(),c='g')   ## features: Spe1/2/3"
   ]
  },
  {
   "cell_type": "code",
   "execution_count": 10,
   "id": "be4d2fc6-fbb5-4516-a5c8-e7a3dc3884cf",
   "metadata": {},
   "outputs": [
    {
     "data": {
      "text/plain": [
       "matrix([[0.97187717, 0.02812283],\n",
       "        [0.12904279, 0.87095721],\n",
       "        [0.7323401 , 0.2676599 ]])"
      ]
     },
     "execution_count": 10,
     "metadata": {},
     "output_type": "execute_result"
    }
   ],
   "source": [
    "Fit = np.square(F2) / np.square(F2).sum(1) \n",
    "Fit                                                     ## non-Cumulative fit of Feature j: how many variables it explains in each CA-axis"
   ]
  },
  {
   "cell_type": "code",
   "execution_count": null,
   "id": "f6ee55cf-bf5a-48d3-bbde-a0b097dc4514",
   "metadata": {},
   "outputs": [],
   "source": []
  },
  {
   "cell_type": "markdown",
   "id": "6a35e03e-a83b-4709-9b17-d8b8544fa06d",
   "metadata": {},
   "source": [
    "### Scaling type 1\n",
    "\n",
    "V = $\\begin{gather}Feature (Spe1..)\n",
    "    \\underbrace{\\begin{bmatrix}\n",
    "\t\t...  \\\\... \\\\...\n",
    "\t\t\\end{bmatrix}}_{\\lambda}\n",
    "\\end{gather}$\n",
    "\n",
    "\n",
    "\n",
    "1. Weight V's each rows by its 1/sqrt(Sample的边缘概率)\n",
    "2. Freq: normalize Q (Feature的边缘概率=1)\n",
    "\n",
    "F1 = $\\begin{gather}Feature \n",
    "    \\underbrace{\\begin{bmatrix}\n",
    "\t\t...  \\\\... \\\\...\n",
    "\t\t\\end{bmatrix}}_{\\lambda}\n",
    "\\end{gather}$  = Weight @ U \n",
    "\n",
    "F2 = $\\begin{gather}Sample \n",
    "    \\underbrace{\\begin{bmatrix}\n",
    "\t\t...  \\\\... \\\\...\n",
    "\t\t\\end{bmatrix}}_{\\lambda}\n",
    "\\end{gather}$  = Freq @ F1 \n",
    "\n",
    "F1,F2 就是在CA-axis中的坐标\n"
   ]
  },
  {
   "cell_type": "code",
   "execution_count": 11,
   "id": "708a16c2-3db0-444c-a640-e5863e8286e5",
   "metadata": {},
   "outputs": [
    {
     "data": {
      "text/plain": [
       "(array([[ 1.31870712, -0.34373591],\n",
       "        [-0.37214912,  1.48149869],\n",
       "        [-0.99972216, -0.92612011]]),\n",
       " matrix([[-0.26322158, -0.17861936],\n",
       "         [-0.06835392,  0.272112  ],\n",
       "         [ 0.51685002, -0.09516583]]))"
      ]
     },
     "execution_count": 11,
     "metadata": {},
     "output_type": "execute_result"
    }
   ],
   "source": [
    "Weight = np.diag(np.array(p_j).squeeze()**(-1/2))    ## D_j^(–1/2)\n",
    "Freq = np.diag(np.array(p_i).squeeze()**(-1)) @ Q    ## relative freq within each row: rowsum=1\n",
    "F1 = Weight @ V                   \n",
    "F2 = Freq @ Weight @ V           \n",
    "F1,F2"
   ]
  },
  {
   "cell_type": "code",
   "execution_count": 12,
   "id": "56f86507-6100-4689-a626-687bb994f0bd",
   "metadata": {},
   "outputs": [
    {
     "data": {
      "text/plain": [
       "array([[0.        , 0.4910521 , 0.78452291],\n",
       "       [0.4910521 , 0.        , 0.69091002],\n",
       "       [0.78452291, 0.69091002, 0.        ]])"
      ]
     },
     "execution_count": 12,
     "metadata": {},
     "output_type": "execute_result"
    }
   ],
   "source": [
    "D = euclidean_distances(np.asarray(F2), np.asarray(F2))    ##   F2中samples间欧氏距离==原空间chi^2距离\n",
    "D"
   ]
  },
  {
   "cell_type": "code",
   "execution_count": 13,
   "id": "1b8e4c3a-724c-4400-98a8-571a61b3e1c5",
   "metadata": {},
   "outputs": [
    {
     "data": {
      "text/plain": [
       "<matplotlib.collections.PathCollection at 0x23773156f60>"
      ]
     },
     "execution_count": 13,
     "metadata": {},
     "output_type": "execute_result"
    },
    {
     "data": {
      "image/png": "[encoded data removed]",
      "text/plain": [
       "<Figure size 300x300 with 1 Axes>"
      ]
     },
     "metadata": {},
     "output_type": "display_data"
    }
   ],
   "source": [
    "fig=plt.figure(figsize=(3,3))\n",
    "plt.scatter(np.array(F1[:,0]).squeeze(),np.array(F1[:,1]).squeeze(),c='g')   ## features: Spe1/2/3\n",
    "plt.scatter(np.array(F2[:,0]).squeeze(),np.array(F2[:,1]).squeeze(),c='b')   ## samples: Lake1/2/3"
   ]
  },
  {
   "cell_type": "code",
   "execution_count": 14,
   "id": "112996b3-1663-4111-9430-4a02cbed3a3b",
   "metadata": {},
   "outputs": [
    {
     "data": {
      "text/plain": [
       "matrix([[0.68470476, 0.31529524],\n",
       "        [0.05935499, 0.94064501],\n",
       "        [0.9672091 , 0.0327909 ]])"
      ]
     },
     "execution_count": 14,
     "metadata": {},
     "output_type": "execute_result"
    }
   ],
   "source": [
    "Fit = np.square(F2) / np.square(F2).sum(1) \n",
    "Fit                                                     ## non-Cumulative fit of Sample i: how many variables it explains in each CA-axis"
   ]
  },
  {
   "cell_type": "code",
   "execution_count": null,
   "id": "7cd79ffd-2d81-4fc3-8989-6939a7fc2403",
   "metadata": {},
   "outputs": [],
   "source": []
  },
  {
   "attachments": {},
   "cell_type": "markdown",
   "id": "6e400f4a-14ca-414b-94da-2c0795ffc05d",
   "metadata": {},
   "source": [
    "## DCA\n",
    "\n",
    "基于各种环境因素，Species中很可能有梯度（unimodal distribution：某物种集中在几个sample/site中，其它site中为0）。CA图像中，这些site点会更加靠近species箭头，图像类似'Arch'\n",
    "\n",
    "![image.png](./DCA.png)\n",
    "\n",
    "移除Arch的过程称为detrending：\n",
    "\n",
    "方法1-----切割某一CA轴，在另一轴上：按区块上下移动点，直至每个区块内点的均值为0\n",
    "\n",
    "方法2-----（P486，486Fig）在CA算法中，通过施加约束，使II轴与I轴的n次方不相关（species够多且沿梯度相互替换时，II轴类似I轴的二次函数）"
   ]
  },
  {
   "cell_type": "code",
   "execution_count": null,
   "id": "a92a61d2-826c-40f7-9814-95d1fe713caa",
   "metadata": {},
   "outputs": [],
   "source": []
  }
 ],
 "metadata": {
  "kernelspec": {
   "display_name": "Python 3 (ipykernel)",
   "language": "python",
   "name": "python3"
  },
  "language_info": {
   "codemirror_mode": {
    "name": "ipython",
    "version": 3
   },
   "file_extension": ".py",
   "mimetype": "text/x-python",
   "name": "python",
   "nbconvert_exporter": "python",
   "pygments_lexer": "ipython3",
   "version": "3.12.1"
  }
 },
 "nbformat": 4,
 "nbformat_minor": 5
}

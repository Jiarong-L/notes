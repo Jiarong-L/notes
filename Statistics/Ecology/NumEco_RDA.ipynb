{
 "cells": [
  {
   "cell_type": "code",
   "execution_count": 1,
   "id": "bee40114-6a82-46ee-a5fe-7b34431a2270",
   "metadata": {},
   "outputs": [],
   "source": [
    "import numpy as np\n",
    "import pandas as pd\n",
    "import scipy.linalg as linalg\n",
    "import scipy.stats as stats\n",
    "import torch\n",
    "from statsmodels.api import OLS\n",
    "import matplotlib.pyplot as plt\n",
    "\n",
    "d = 3\n",
    "\n",
    "gscale = 5.8454   ## from vegan"
   ]
  },
  {
   "cell_type": "markdown",
   "id": "c7233600-1cf0-45bd-baf5-5a0eba9f7580",
   "metadata": {},
   "source": [
    "## RDA\n",
    "\n",
    "![](RDA.png)\n",
    "\n",
    "### Simple RDA\n",
    "$Y$在$X$上进行多元回归($y_{ii}=\\beta_1x_{i1}+\\beta_2x_{i2}+...$)，得到：拟合值矩阵 $\\hat{Y}^{n \\times p}=X^{n \\times m}B^{m \\times p}=X(X'X)^{-1}X'Y$、残差矩阵$Y_{res}=Y-\\hat{Y}$\n",
    "\n",
    "* 对$\\hat{Y}$进行PCA分析，得到约束轴(constrained/Canonical axes)$RDA_i$上展示的信息 ($Y$ 中被 $X$ 解释的部分)\n",
    "* 对$Y_{res}=Y-\\hat{Y}$ 进行PCA，得到非约束轴(unconstrained/non-Canonical axes)$PC_i$上展示的信息 ($Y$ 中被 residuals 解释的部分)\n",
    "\n",
    "----------------------\n",
    "\n",
    "1. $U$ 中每一列为 $\\hat{Y}$ 的特征向量\n",
    "2. $F=YU$ 原样本在轴上的坐标 = ordination in the space of variables Y\n",
    "3. $Z=\\hat{Y}U=XBU$ Fitted样本在轴上的坐标 = ordination in the space of variables X\n",
    "\n",
    "----------------------\n",
    "**scaling 1**: eigenvectors normalized to length 1 ; **Biplot scores** $BS_1=Var(Y)^{-1/2}cor(X,Z)\\Lambda^{1/2}$ 即: $cor(x,Z)\\sqrt{\\lambda_k/Var(Y)}$\n",
    "\n",
    "**scaling 2**: eigenvectors normalized to length $\\sqrt{\\lambda_k}$ ; **Biplot scores** $BS_2=R_{XZ}=cor(X,\\hat{Y}U)$\n",
    "\n",
    "注：**scaling type 1**的结果乘上 $\\Lambda^{-1/2}$ 就是 **scaling type 2**的结果，例如$U\\Lambda^{-1/2}$、$Z\\Lambda^{-1/2}$、$F\\Lambda^{-1/2}$，$Z\\Lambda^{-1/2}\\Lambda^{1/2}U'=\\hat{Y}$\n",
    "\n",
    "----------------------\n",
    "\n",
    "### Partial RDA\n",
    "回归时加上 Conditioning variables W 矩阵\n",
    "\n",
    "### db-RDA\n",
    "原始数据进行PCoA，将PCoA排序轴上的 Site scores 作为 Response Matrix $Y$\n"
   ]
  },
  {
   "cell_type": "markdown",
   "id": "36e71382-7e71-404a-be8f-e455f9f5af7c",
   "metadata": {},
   "source": [
    "## RDA轴的数量\n",
    "\n",
    "\n",
    "![](RDA_axis.png)\n",
    "\n",
    "轴的总数量为(n_sample-1)，其中约束轴数目为(explain_x_level)，余下为非约束轴；其中 explain_x_level = quantitative_x数目 + (categorical_x中类别数-1)\n"
   ]
  },
  {
   "cell_type": "code",
   "execution_count": 2,
   "id": "7419fc34-75ba-444a-895c-04c390858348",
   "metadata": {},
   "outputs": [
    {
     "data": {
      "text/plain": [
       "((10, 9), (10, 4))"
      ]
     },
     "execution_count": 2,
     "metadata": {},
     "output_type": "execute_result"
    }
   ],
   "source": [
    "Y = np.matrix([                           ##  10 Sample * 9 var\n",
    "    [1,0,0,0,0,0,2,4,4],\n",
    "    [0,0,0,0,0,0,5,6,1],\n",
    "    [0,1,0,0,0,0,0,2,3],\n",
    "    [11,4,0,0,8,1,6,2,0],\n",
    "    [11,5,17,7,0,0,6,6,2],\n",
    "    [9,6,0,0,6,2,10,1,4],\n",
    "    [9,7,13,10,0,0,4,5,4],\n",
    "    [7,8,0,0,4,3,6,6,4],\n",
    "    [7,9,10,13,0,0,6,2,0],\n",
    "    [5,10,0,0,2,4,0,1,3]\n",
    "])\n",
    "\n",
    "\n",
    "\n",
    "X = np.matrix([                           ##  10 Sample * 4 var\n",
    "    [1,0,1,0],\n",
    "    [2,0,1,0],\n",
    "    [3,0,1,0],\n",
    "    [4,0,0,1],\n",
    "    [5,1,0,0],\n",
    "    [6,0,0,1],\n",
    "    [7,1,0,0],\n",
    "    [8,0,0,1],\n",
    "    [9,1,0,0],\n",
    "    [10,0,0,1]\n",
    "])\n",
    "\n",
    "\n",
    "Y.shape,X.shape"
   ]
  },
  {
   "cell_type": "code",
   "execution_count": 3,
   "id": "917bd5b1-159a-46a4-a149-8d93b71f4e0e",
   "metadata": {},
   "outputs": [],
   "source": [
    "Yc = Y - Y.mean(0)\n",
    "Xc = X - X.mean(0)"
   ]
  },
  {
   "cell_type": "code",
   "execution_count": 4,
   "id": "c49badc0-79ae-4e00-80e0-13f685057a51",
   "metadata": {},
   "outputs": [
    {
     "data": {
      "text/plain": [
       "(10, 9)"
      ]
     },
     "execution_count": 4,
     "metadata": {},
     "output_type": "execute_result"
    }
   ],
   "source": [
    "## https://www.statsmodels.org/dev/generated/statsmodels.regression.linear_model.RegressionResults.html\n",
    "Y_hat = pd.DataFrame(Yc).apply(lambda y: OLS(y, X).fit().fittedvalues)\n",
    "Y_hat = np.matrix(Y_hat)\n",
    "Y_hat.shape"
   ]
  },
  {
   "cell_type": "code",
   "execution_count": 5,
   "id": "72836775-6f3e-4988-981f-0ad6b670f0ae",
   "metadata": {},
   "outputs": [
    {
     "data": {
      "text/plain": [
       "(array([75.6049424 , 27.68145497, 10.60434337]),\n",
       " array([[ 0.30903799,  0.61947722,  0.26645171],\n",
       "        [ 0.19857338,  0.40557273, -0.74910251],\n",
       "        [ 0.73539401, -0.1724343 ,  0.21645813],\n",
       "        [ 0.54217697, -0.19025599, -0.24569748],\n",
       "        [-0.10727289,  0.49611898,  0.20935378],\n",
       "        [-0.06196403,  0.19389925, -0.25802629],\n",
       "        [ 0.10093152,  0.29757154,  0.32969986],\n",
       "        [ 0.05625029, -0.11618219,  0.19015024],\n",
       "        [-0.04007043,  0.00705125, -0.07322475]]))"
      ]
     },
     "execution_count": 5,
     "metadata": {},
     "output_type": "execute_result"
    }
   ],
   "source": [
    "S_hat = Y_hat.T @ Y_hat / (10-1)\n",
    "L, U = linalg.eigh(S_hat)\n",
    "L = L[::-1]                \n",
    "U = U[:,::-1]\n",
    "\n",
    "U = U[:,:d]\n",
    "L = L[:d]\n",
    "\n",
    "U[:,0] = -U[:,0]\n",
    "\n",
    "L,U      ## eigenValues  and  Species scores"
   ]
  },
  {
   "cell_type": "code",
   "execution_count": 6,
   "id": "9622e95d-93f3-4461-960b-e3508f18fa6f",
   "metadata": {},
   "outputs": [
    {
     "data": {
      "text/plain": [
       "array([[ 2.68711938,  3.25926592,  0.86768161],\n",
       "       [ 1.72661745,  2.13384666, -2.4394007 ],\n",
       "       [ 6.39433197, -0.90723146,  0.70488097],\n",
       "       [ 4.71428854, -1.00099707, -0.80009691],\n",
       "       [-0.93274961,  2.61023916,  0.68174616],\n",
       "       [-0.53878408,  1.02016538, -0.84024481],\n",
       "       [ 0.87761073,  1.56561815,  1.07364486],\n",
       "       [ 0.48910251, -0.61127129,  0.61921114],\n",
       "       [-0.34841678,  0.03709888, -0.23845136]])"
      ]
     },
     "execution_count": 6,
     "metadata": {},
     "output_type": "execute_result"
    }
   ],
   "source": [
    "U @ np.diag(np.sqrt(L))    "
   ]
  },
  {
   "cell_type": "code",
   "execution_count": 7,
   "id": "a5bf4f1a-88c8-4d37-ba91-2d8b8b7cbcf2",
   "metadata": {},
   "outputs": [
    {
     "data": {
      "text/plain": [
       "matrix([[-7.11396328, -5.84232486,  1.28482103],\n",
       "        [-6.88749483, -5.8226056 ,  2.60744363],\n",
       "        [-7.4987211 , -6.42605931, -0.69720862],\n",
       "        [-3.69792981,  7.53203487,  3.60112998],\n",
       "        [13.86258795, -0.93904473,  4.00928073],\n",
       "        [-3.57908317,  7.64056054,  1.72903787],\n",
       "        [11.98835943, -1.71274288, -0.62075211],\n",
       "        [-3.76990526,  4.64321577, -1.34685266],\n",
       "        [11.38117299, -1.27853233, -3.65647934],\n",
       "        [-4.68502292,  2.20549854, -6.91042052]])"
      ]
     },
     "execution_count": 7,
     "metadata": {},
     "output_type": "execute_result"
    }
   ],
   "source": [
    "F = Yc @ U                    ## Site scores  (unscaled)   ---- Question: Vegan 到底scale了啥。。\n",
    "F"
   ]
  },
  {
   "cell_type": "code",
   "execution_count": 8,
   "id": "18e7de2f-43f4-47bf-98e2-e9c6c9328afd",
   "metadata": {},
   "outputs": [
    {
     "data": {
      "text/plain": [
       "matrix([[-6.88340343, -5.35567448,  2.79582174],\n",
       "        [-7.1667264 , -6.03032992,  1.06501868],\n",
       "        [-7.45004937, -6.70498537, -0.66578438],\n",
       "        [-3.08301638,  7.52929377,  4.46063285],\n",
       "        [12.97735274,  0.03920424,  3.37228922],\n",
       "        [-3.64966232,  6.17998287,  0.99902673],\n",
       "        [12.41070679, -1.31010665, -0.0893169 ],\n",
       "        [-4.21630826,  4.83067198, -2.46257939],\n",
       "        [11.84406085, -2.65941754, -3.55092302],\n",
       "        [-4.78295421,  3.48136109, -5.92418551]])"
      ]
     },
     "execution_count": 8,
     "metadata": {},
     "output_type": "execute_result"
    }
   ],
   "source": [
    "Z = Y_hat @ U                  ## Site constraints  (unscaled)  ,   F/Z同Vegan    ---- Question: Vegan 到底scale了啥。。\n",
    "Z"
   ]
  },
  {
   "cell_type": "code",
   "execution_count": 9,
   "id": "6387c9f6-e8fc-4cbe-9a40-9a5239004567",
   "metadata": {},
   "outputs": [
    {
     "data": {
      "text/plain": [
       "[[0.4178468826945435, 0.48976639185235893, -0.7652011918668016],\n",
       " [0.9849445343085712, -0.1718314070375067, -0.01892701485133498],\n",
       " [-0.5687692182264668, -0.7909280342008871, 0.22568655501197524],\n",
       " [-0.3892963614028966, 0.9005789937489972, -0.1934058401820108]]"
      ]
     },
     "execution_count": 9,
     "metadata": {},
     "output_type": "execute_result"
    }
   ],
   "source": [
    "## cor(X_col,Z_col)      == BS2 --- 似乎下文Vegan操作后得到的是BS2， 不过为何Vegan结果只有 X1-3？？\n",
    "R_XZ = [[ stats.pearsonr(np.array(X[:,i]).squeeze(),np.array(Z[:,j]).squeeze())[0] for j in range(Z.shape[1])]for i in range(X.shape[1])]\n",
    "R_XZ"
   ]
  },
  {
   "cell_type": "code",
   "execution_count": 10,
   "id": "a1ddd1bb-01b2-49b4-a5f7-39ecba9398d2",
   "metadata": {},
   "outputs": [
    {
     "data": {
      "text/plain": [
       "array([[ 0.93378149,  0.66227206, -0.64042832],\n",
       "       [ 2.20110047, -0.23235392, -0.0158408 ],\n",
       "       [-1.27105451, -1.06950895,  0.18888635],\n",
       "       [-0.86997833,  1.21778121, -0.16186929]])"
      ]
     },
     "execution_count": 10,
     "metadata": {},
     "output_type": "execute_result"
    }
   ],
   "source": [
    "BS = R_XZ @ np.diag(np.sqrt(L)) *(Y.var() ** (-0.5) )     #### BS1 \n",
    "BS"
   ]
  },
  {
   "cell_type": "code",
   "execution_count": null,
   "id": "a9c76974-ba0a-4864-bdf8-ee95ba3fccfa",
   "metadata": {},
   "outputs": [],
   "source": []
  },
  {
   "cell_type": "markdown",
   "id": "3e63286d-85b8-41b8-bc84-0a41d8729782",
   "metadata": {},
   "source": [
    "作图时候，一般用箭头画BS（对应X_vars），用点画F（Y_vars 的 Site scores）"
   ]
  },
  {
   "cell_type": "code",
   "execution_count": null,
   "id": "619bde5e-3e50-4dd6-8167-93c23f3474d2",
   "metadata": {},
   "outputs": [],
   "source": []
  },
  {
   "cell_type": "markdown",
   "id": "feab6b87-032d-4782-a62d-4ae6acda30ce",
   "metadata": {},
   "source": [
    "## 关于Vegan\n",
    "\n",
    "```R\n",
    "library(vegan)\n",
    "Y = matrix( c(1, 0, 0, 0, 0, 0, 2, 4, 4, 0, 0, 0, 0, 0, 0, 5, 6, 1, 0, 1, 0, 0, 0, 0, 0, 2, 3, 11, 4, 0, 0, 8, 1, 6, 2, 0, 11, 5, 17, 7, 0, 0, 6, 6, 2, 9, 6, 0, 0, 6, 2, 10, 1, 4, 9, 7, 13, 10, 0, 0, 4, 5, 4, 7, 8, 0, 0, 4, 3, 6, 6, 4, 7, 9, 10, 13, 0, 0, 6, 2, 0, 5, 10, 0, 0, 2, 4, 0, 1, 3), ncol = 9,byrow = TRUE)\n",
    "colnames(Y) = c('V1','V2','V3','V4','V5','V6','V7','V8','V9')\n",
    "\n",
    "X = matrix( c(1, 0, 1, 0, 2, 0, 1, 0, 3, 0, 1, 0, 4, 0, 0, 1, 5, 1, 0, 0, 6, 0, 0, 1, 7, 1, 0, 0, 8, 0, 0, 1, 9, 1, 0, 0, 10, 0, 0, 1), ncol = 4,byrow = TRUE)\n",
    "colnames(X) = c('E1','E2','E3','E4')\n",
    "\n",
    "rda <- rda(Y ~ X, center = TRUE, scale= FALSE)\n",
    "summary(rda, axes = 2,scaling=0)\n",
    "ordiplot(rda)\n",
    "```\n",
    "\n",
    "RDA对象中数据默认不Scale，但是在Summary或Plot时又会默认进行scaling=\"species\"(i.e.spe*scale，其它乘 General scaling constant)\n",
    "\n",
    "![](vegan_summary_scale.png)\n",
    "\n",
    "\n",
    "```\n",
    "....\n",
    "Scaling 0 for species and site scores\n",
    "* Both are 'unscaled' or as they are in the result\n",
    "* General scaling constant of scores:  5.8454\n",
    "....\n",
    "Scaling 1 for species and site scores\n",
    "* Sites are scaled proportional to eigenvalues\n",
    "* Species are unscaled: weighted dispersion equal on all dimensions\n",
    "* General scaling constant of scores:  5.8454\n",
    "....\n",
    "Scaling 2 for species and site scores\n",
    "* Species are scaled proportional to eigenvalues\n",
    "* Sites are unscaled: weighted dispersion equal on all dimensions\n",
    "* General scaling constant of scores:  5.8454\n",
    "```"
   ]
  },
  {
   "cell_type": "code",
   "execution_count": null,
   "id": "52df20ff-0c36-4143-8925-3014a2ee001f",
   "metadata": {},
   "outputs": [],
   "source": []
  },
  {
   "cell_type": "code",
   "execution_count": 11,
   "id": "40c215ad-a54d-4ee4-ac40-88e39b5b99f7",
   "metadata": {},
   "outputs": [],
   "source": [
    "# str = 't(matrix( c('\n",
    "# for i in range(X.shape[0]):\n",
    "#     for j in range(X.shape[1]):\n",
    "#         str = str + '{}, '.format(X[i,j])\n",
    "# str = str + '), ncol = {},byrow = TRUE))'.format(X.shape[1])\n",
    "# str"
   ]
  },
  {
   "cell_type": "code",
   "execution_count": null,
   "id": "f9dd8f5e-13d3-473f-80a5-800c42ba1848",
   "metadata": {},
   "outputs": [],
   "source": []
  },
  {
   "cell_type": "markdown",
   "id": "7379ee89-0db2-4188-8c67-e25aeae4a7b7",
   "metadata": {},
   "source": [
    "## 旧Vegan例子\n",
    "\n",
    "```\n",
    "## 欧氏距离下的db-RDA capscale() 等效于 rda()\n",
    "## rda(Y ~ X + Condition(W)) 等于 rda(Y, X, W); X, W can be missing\n",
    "## DataMatrix ~ ConstrainVar1 + Condition(Var)\n",
    "\n",
    "data(dune)     ## decostand(dune, method = \"hellinger\")\n",
    "data(dune.env)\n",
    "####################################### Only Data Y = Only PCA\n",
    "xrda <- rda(dune, center = FALSE, scale= FALSE)\n",
    "biplot(xrda,type = c(\"text\",\"points\"))  \n",
    "\n",
    "\n",
    "####################################### With constrains X\n",
    "crda <- rda(dune ~ ., dune.env, center = FALSE, scale= FALSE) \n",
    "ordiplot(crda) \n",
    "\n",
    "\n",
    "####################################### With constrains X & condition W\n",
    "zrda <- rda(dune ~ A1 + Condition(Manure), dune.env, center = FALSE, scale= FALSE) \n",
    "ordiplot(zrda) \n",
    "\n",
    "\n",
    "#########################  结果说明  #############################\n",
    "\n",
    "## eig占总体eig的比例\n",
    "RDA_eig_prop = crda$CCA$eig / crda$tot.chi\n",
    "PC_eig_prop = crda$CA$eig / crda$tot.chi\n",
    "\n",
    "\n",
    "## scaled pos\n",
    "### 默认scaling=\"species\", 即 species scaled by eigenvalues\n",
    "summary(crda, axes = 2) \n",
    "ordiplot(crda, type=\"n\") |>\n",
    "  points(\"sites\", pch=16, col=\"grey\") |>  \n",
    "  text(\"species\", pch=10, col=\"red\") |> \n",
    "  text(\"biplot\", arrows = TRUE, length=0.05, col=\"blue\") \n",
    "\n",
    "\n",
    "## unscaled pos,scaling=0 改为 scaling=2 就如默认 scaled pos 一般\n",
    "## 尝试但对不上！！ scale(crda$CCA$wa, scale = RDA_eig_prop,center=F)\n",
    "summary(crda,scaling=0,axes=2)$sites  ## Site scores: 样本点(dune行名)在各轴上的坐标，crda$CCA$wa  ??看Doc crda$CCA$u 才是site坐标\n",
    "summary(crda,scaling=0,axes=2)$species  ## Species scores: spe(dune列名)在各轴上的坐标，crda$CCA$v \n",
    "summary(crda,axes=2)$biplot ## ENV 箭头坐标 = crda$CCA$biplot \n",
    "\n",
    "summary(crda,scaling=0,axes=2)$constraints ## Site constraints: 样本点的fitted Site scores，crda$CCA$u\n",
    "```\n",
    "\n"
   ]
  }
 ],
 "metadata": {
  "kernelspec": {
   "display_name": "Python 3 (ipykernel)",
   "language": "python",
   "name": "python3"
  },
  "language_info": {
   "codemirror_mode": {
    "name": "ipython",
    "version": 3
   },
   "file_extension": ".py",
   "mimetype": "text/x-python",
   "name": "python",
   "nbconvert_exporter": "python",
   "pygments_lexer": "ipython3",
   "version": "3.12.1"
  }
 },
 "nbformat": 4,
 "nbformat_minor": 5
}

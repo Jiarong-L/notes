{
 "cells": [
  {
   "cell_type": "code",
   "execution_count": 1,
   "id": "338a2274-c394-4781-a606-b484fe36997d",
   "metadata": {},
   "outputs": [],
   "source": [
    "import numpy as np\n",
    "import pandas as pd\n",
    "import scipy.linalg as linalg\n",
    "import torch\n",
    "import matplotlib.pyplot as plt\n",
    "\n",
    "plotscale = 10"
   ]
  },
  {
   "attachments": {},
   "cell_type": "markdown",
   "id": "eaf45229-ddb8-40c8-8ccc-0d5a526149b4",
   "metadata": {},
   "source": [
    "## PCA - for Covariance matrix S\n",
    "\n",
    "(Numerical Ecology, ch9.1)   假设有一个Species丰度矩阵Y，每行代表一个样本，每列代表一个descriptor/feature\n",
    "\n",
    "1. centralize Y as Yc\n",
    "2. S= Yc'Yc/(n-1)\n",
    "3. PCA分解，得到S的特征值L[i]与特征向量U[:,i] ；(U的每一**列**为一个**特征向量**, 向量的每个元素对应一个descriptor/feature)\n",
    "    - 特征值即PC_i所解释的方差\n",
    "    - 特征向量的方向，即PC方向，是最大方差的方向\n",
    "4. F=YcU 即PC坐标系中样本的坐标 (scaling 1)\n",
    "\n",
    "\n",
    "\n",
    "scaling 1 -- Distance biplot；descriptor向量在PC空间相互垂直，意在展示样本在PC空间的距离\n",
    "\n",
    "scaling 2 -- Correlationbiplot；descriptor向量在PC空间的角度是其covariance的arccosin，意在展示variance之间的关联\n",
    "\n",
    "（p 437,442）\n"
   ]
  },
  {
   "cell_type": "code",
   "execution_count": 2,
   "id": "938a16e2-1314-4d64-a304-dbad2db532be",
   "metadata": {},
   "outputs": [
    {
     "data": {
      "text/plain": [
       "array([[1, 0],\n",
       "       [0, 1]])"
      ]
     },
     "execution_count": 2,
     "metadata": {},
     "output_type": "execute_result"
    }
   ],
   "source": [
    "I = np.eye(2,dtype=int)\n",
    "I"
   ]
  },
  {
   "cell_type": "code",
   "execution_count": 3,
   "id": "75306e14-8bab-4ba7-83b3-b3595c32431d",
   "metadata": {},
   "outputs": [
    {
     "data": {
      "text/plain": [
       "matrix([[2, 1],\n",
       "        [3, 4],\n",
       "        [5, 0],\n",
       "        [7, 6],\n",
       "        [9, 2]])"
      ]
     },
     "execution_count": 3,
     "metadata": {},
     "output_type": "execute_result"
    }
   ],
   "source": [
    "Y = np.matrix([[2,3,5,7,9],      ## n=5, feature=2\n",
    "               [1,4,0,6,2]]).T\n",
    "Y"
   ]
  },
  {
   "cell_type": "code",
   "execution_count": 4,
   "id": "0ca42695-be42-4dd3-af40-dea0dc96345f",
   "metadata": {},
   "outputs": [
    {
     "data": {
      "text/plain": [
       "matrix([[-3.2, -1.6],\n",
       "        [-2.2,  1.4],\n",
       "        [-0.2, -2.6],\n",
       "        [ 1.8,  3.4],\n",
       "        [ 3.8, -0.6]])"
      ]
     },
     "execution_count": 4,
     "metadata": {},
     "output_type": "execute_result"
    }
   ],
   "source": [
    "Yc = Y - Y.mean(0)\n",
    "Yc"
   ]
  },
  {
   "cell_type": "code",
   "execution_count": 5,
   "id": "de067696-5e05-4479-9c37-4838b34da0da",
   "metadata": {},
   "outputs": [
    {
     "data": {
      "text/plain": [
       "matrix([[8.2, 1.6],\n",
       "        [1.6, 5.8]])"
      ]
     },
     "execution_count": 5,
     "metadata": {},
     "output_type": "execute_result"
    }
   ],
   "source": [
    "S = Yc.T @ Yc / (5-1)\n",
    "S"
   ]
  },
  {
   "cell_type": "code",
   "execution_count": 6,
   "id": "8c689cc9-5e92-4136-8263-4dc8f41f8a1c",
   "metadata": {},
   "outputs": [
    {
     "data": {
      "text/plain": [
       "(array([5., 9.]),\n",
       " array([[ 0.4472136 , -0.89442719],\n",
       "        [-0.89442719, -0.4472136 ]]))"
      ]
     },
     "execution_count": 6,
     "metadata": {},
     "output_type": "execute_result"
    }
   ],
   "source": [
    "linalg.eigh(S)"
   ]
  },
  {
   "cell_type": "code",
   "execution_count": 7,
   "id": "70a8988e-a0a3-4259-b241-04a46c121e53",
   "metadata": {},
   "outputs": [
    {
     "data": {
      "text/plain": [
       "(array([9., 5.]),\n",
       " array([[ 0.89442719, -0.4472136 ],\n",
       "        [ 0.4472136 ,  0.89442719]]))"
      ]
     },
     "execution_count": 7,
     "metadata": {},
     "output_type": "execute_result"
    }
   ],
   "source": [
    "L, U = linalg.eigh(S)\n",
    "L = L[::-1]                  ## np.argsort(L)[::-1]  to descending order\n",
    "U = U[:,::-1]               \n",
    "U = -U if U[0,0] < 0 else U  ## 该符号只是换了PC的正反方向（pc_1_x>0），无伤大雅？？(原输出可能是按照原排序的pc_1_x决定符号)\n",
    "\n",
    "L,U                           ## (S - L[0]*I) @ U[:,0]   ## linalg.det(S - L[1] * I)"
   ]
  },
  {
   "cell_type": "code",
   "execution_count": 8,
   "id": "94be3c81-8bdf-486f-9cda-39294ff7da30",
   "metadata": {},
   "outputs": [
    {
     "data": {
      "text/plain": [
       "matrix([[-3.57770876e+00, -2.22044605e-16],\n",
       "        [-1.34164079e+00,  2.23606798e+00],\n",
       "        [-1.34164079e+00, -2.23606798e+00],\n",
       "        [ 3.13049517e+00,  2.23606798e+00],\n",
       "        [ 3.13049517e+00, -2.23606798e+00]])"
      ]
     },
     "execution_count": 8,
     "metadata": {},
     "output_type": "execute_result"
    }
   ],
   "source": [
    "F = Yc @ U             ## Scale 1 PC-axis 上样本的坐标\n",
    "F                      ## F.var(0) should be lambda ([9,5]) but ???"
   ]
  },
  {
   "cell_type": "code",
   "execution_count": 9,
   "id": "273edc65-faaa-4320-a84a-f9dff13086dc",
   "metadata": {},
   "outputs": [
    {
     "data": {
      "text/plain": [
       "<matplotlib.collections.PathCollection at 0x24e463dcf20>"
      ]
     },
     "execution_count": 9,
     "metadata": {},
     "output_type": "execute_result"
    },
    {
     "data": {
      "image/png": "[encoded data removed]",
      "text/plain": [
       "<Figure size 300x300 with 1 Axes>"
      ]
     },
     "metadata": {},
     "output_type": "display_data"
    }
   ],
   "source": [
    "fig=plt.figure(figsize=(3,3))\n",
    "ax = plt.axes()\n",
    "ax.arrow(plotscale*0, plotscale* 0, plotscale*1, plotscale*0, length_includes_head=False,head_width=0.05, fc='b', ec='k')  \n",
    "ax.arrow(plotscale*0, plotscale* 0, plotscale*0, plotscale*1, length_includes_head=False,head_width=0.05, fc='b', ec='k')  \n",
    "ax.grid()\n",
    "\n",
    "plt.scatter(np.array(F[:,0]).squeeze(),np.array(F[:,1]).squeeze())"
   ]
  },
  {
   "cell_type": "code",
   "execution_count": 10,
   "id": "8df42a85-4ebf-411c-b712-48e0d63cb8a2",
   "metadata": {},
   "outputs": [
    {
     "name": "stdout",
     "output_type": "stream",
     "text": [
      "PC1: (0,0) to (0.8944271909999159,0.4472135954999578)\n",
      "PC2: (0,0) to (-0.4472135954999578,0.8944271909999159)\n"
     ]
    },
    {
     "data": {
      "text/plain": [
       "<matplotlib.collections.PathCollection at 0x24e4843ecc0>"
      ]
     },
     "execution_count": 10,
     "metadata": {},
     "output_type": "execute_result"
    },
    {
     "data": {
      "image/png": "[encoded data removed]",
      "text/plain": [
       "<Figure size 300x300 with 1 Axes>"
      ]
     },
     "metadata": {},
     "output_type": "display_data"
    }
   ],
   "source": [
    "fig=plt.figure(figsize=(3,3))   ## ?? 应该是垂直的啊   np.dot(U[:,0],U[:,1]) == 0  且 np.arccos(U)/np.pi*180 后 gamma+sigma = 90\n",
    "ax = plt.axes()\n",
    "ax.arrow(0, 0, plotscale*U[:,0][0], plotscale*U[:,0][1], length_includes_head=False,head_width=0.05, fc='b', ec='k')   ## PC1\n",
    "ax.arrow(0, 0, plotscale*U[:,1][0], plotscale*U[:,1][1], length_includes_head=False,head_width=0.05, fc='b', ec='k')   ## PC2\n",
    "ax.grid()\n",
    "\n",
    "print('PC1: (0,0) to ({},{})'.format(U[:,0][0],U[:,0][1]))\n",
    "print('PC2: (0,0) to ({},{})'.format(U[:,1][0],U[:,1][1]))\n",
    "\n",
    "plt.scatter(np.array(Yc[:,0]).squeeze(),np.array(Yc[:,1]).squeeze())"
   ]
  },
  {
   "cell_type": "code",
   "execution_count": null,
   "id": "eee40774-55e3-47eb-bb7e-1e72ca2ae813",
   "metadata": {},
   "outputs": [],
   "source": []
  },
  {
   "cell_type": "markdown",
   "id": "fa25c167-8151-48a8-9928-1291c39131cc",
   "metadata": {},
   "source": [
    "### Scaling 1\n",
    "\n",
    "* UU'=I（即特征向量特征向量之间的cos角度=90, i.e.相互垂直） 且 U中每行/列元素的平方和=1\n",
    "\n",
    "* **u_jk** 表示 descriptor-axis j 在 PC-axis k 上的投影，与 covariance(descriptor,PC) 等比例\n",
    "    - ???由于每个PC-axis的proportion factor（可能是sqrt(L_k)??）不一样，故分析时只需比较同一PC-axis内的信息即可\n",
    "\n",
    "* equilibrium contribution: sqrt(d/p)\n",
    "    - p维原始空间(即p个descriptor)的单位向量 isogonal projection 至 d维目标空间中，每个目标空间的axis平均接受到原向量 sqrt(d/p) 的长度  （P437）\n",
    "    - 用以评估每个descriptor对PC的贡献：此例中，如果需要验证某个descriptor（共p=2）对单个PC（d=1）是否重要，则若 u_jk > sqrt(1/2)，descriptor j 对 PC k 而言很重要\n"
   ]
  },
  {
   "cell_type": "code",
   "execution_count": 11,
   "id": "e8110351-2c74-42dd-bed4-3c8e03ded151",
   "metadata": {},
   "outputs": [
    {
     "data": {
      "text/plain": [
       "array([[1., 0.],\n",
       "       [0., 1.]])"
      ]
     },
     "execution_count": 11,
     "metadata": {},
     "output_type": "execute_result"
    }
   ],
   "source": [
    "U @ U.T "
   ]
  },
  {
   "cell_type": "code",
   "execution_count": 12,
   "id": "8a92ad90-4e8a-4511-92df-8bdfada91b0f",
   "metadata": {},
   "outputs": [
    {
     "data": {
      "text/plain": [
       "array([1., 1.])"
      ]
     },
     "execution_count": 12,
     "metadata": {},
     "output_type": "execute_result"
    }
   ],
   "source": [
    "np.square(U).sum(0)              ## 每一列平方和    'Length of scaled eigenvectors' ^2"
   ]
  },
  {
   "cell_type": "code",
   "execution_count": 13,
   "id": "f7028d01-cdd1-499b-8fc4-dd6e55c3e069",
   "metadata": {},
   "outputs": [
    {
     "data": {
      "text/plain": [
       "array([1., 1.])"
      ]
     },
     "execution_count": 13,
     "metadata": {},
     "output_type": "execute_result"
    }
   ],
   "source": [
    "np.square(U).sum(1)              ## 每一行平方和     'Length of descriptor j in U or U_' ^2   -- descriptor j 在此PC上所解释的variance比例？？"
   ]
  },
  {
   "cell_type": "code",
   "execution_count": 14,
   "id": "99bacc2f-211a-4746-a9be-d563e1cd2a1d",
   "metadata": {},
   "outputs": [
    {
     "data": {
      "text/plain": [
       "array([[ 26.56505118, 116.56505118],\n",
       "       [ 63.43494882,  26.56505118]])"
      ]
     },
     "execution_count": 14,
     "metadata": {},
     "output_type": "execute_result"
    }
   ],
   "source": [
    "np.arccos(U)/np.pi*180        ## y1------>PC1------>y2------>PC2\n",
    "                        ## angles:  beta     gamma     sigma\n",
    "## beta     ?\n",
    "## gamma  sigma"
   ]
  },
  {
   "cell_type": "code",
   "execution_count": null,
   "id": "6d78674f-fe1b-46d7-86eb-b3820d87f39e",
   "metadata": {},
   "outputs": [],
   "source": []
  },
  {
   "cell_type": "markdown",
   "id": "f39a947a-0f23-4aff-b44b-66aae5076929",
   "metadata": {},
   "source": [
    "### Scaling 2\n",
    "\n",
    "* U_ = U @ sqrt(L)\n",
    "* U_U_'=S，即特征向量之间的cos角度取决于二者的covariance\n",
    "* 用于研究descriptor/feature间的关系\n",
    "* **u_ _jk** = **u_jk** * sqet(L_k)，展示了 covariance(descriptor,PC) ？？\n",
    "* equilibrium contribution: s_j * sqrt(d/p)\n"
   ]
  },
  {
   "cell_type": "code",
   "execution_count": 15,
   "id": "cccd5cf4-239b-4e3d-9f08-fa31f4eb9482",
   "metadata": {},
   "outputs": [],
   "source": [
    "U_ = U @ np.diag(np.sqrt(L))      "
   ]
  },
  {
   "cell_type": "code",
   "execution_count": 16,
   "id": "213a82bd-fd9b-493b-8228-867149007809",
   "metadata": {},
   "outputs": [
    {
     "data": {
      "text/plain": [
       "array([[8.2, 1.6],\n",
       "       [1.6, 5.8]])"
      ]
     },
     "execution_count": 16,
     "metadata": {},
     "output_type": "execute_result"
    }
   ],
   "source": [
    "U_ @ U_.T                         ## equals to S"
   ]
  },
  {
   "cell_type": "code",
   "execution_count": 17,
   "id": "d3602ec3-226d-4265-abd1-9dfd7196411b",
   "metadata": {},
   "outputs": [
    {
     "data": {
      "text/plain": [
       "array([9., 5.])"
      ]
     },
     "execution_count": 17,
     "metadata": {},
     "output_type": "execute_result"
    }
   ],
   "source": [
    "np.square(U_).sum(0)              ## 每一列平方和 = Lambda"
   ]
  },
  {
   "cell_type": "code",
   "execution_count": 18,
   "id": "161b725b-3558-4b98-9bf8-43dcd2d96cae",
   "metadata": {},
   "outputs": [
    {
     "data": {
      "text/plain": [
       "array([8.2, 5.8])"
      ]
     },
     "execution_count": 18,
     "metadata": {},
     "output_type": "execute_result"
    }
   ],
   "source": [
    "np.square(U_).sum(1)              ## 每一行平方和 = s_j ^2  "
   ]
  },
  {
   "cell_type": "code",
   "execution_count": 19,
   "id": "0fb310b7-2b58-4322-b1ee-1d9ca592b5e9",
   "metadata": {},
   "outputs": [
    {
     "data": {
      "text/plain": [
       "array([2.86356421, 2.40831892])"
      ]
     },
     "execution_count": 19,
     "metadata": {},
     "output_type": "execute_result"
    }
   ],
   "source": [
    "s = np.square(U_).sum(1)  ** 0.5    ## s_j  即这些向量在多维空间中的标准距离/Standard Deviation\n",
    "s"
   ]
  },
  {
   "cell_type": "code",
   "execution_count": 20,
   "id": "338fde32-79f2-4e9d-8d45-0779d2d9a35e",
   "metadata": {},
   "outputs": [
    {
     "data": {
      "text/plain": [
       "array([[ 0.93704257, -0.34921515],\n",
       "       [ 0.55708601,  0.8304548 ]])"
      ]
     },
     "execution_count": 20,
     "metadata": {},
     "output_type": "execute_result"
    }
   ],
   "source": [
    "R = np.array([U_[d] / s[d] for d in range(2)])       ## correlations between descruptors\n",
    "R"
   ]
  },
  {
   "cell_type": "code",
   "execution_count": 21,
   "id": "dbe2e9d4-1b35-45d7-81d5-802660f9c093",
   "metadata": {},
   "outputs": [
    {
     "data": {
      "text/plain": [
       "array([[ 20.43931757, 110.43931757],\n",
       "       [ 56.14548519,  33.85451481]])"
      ]
     },
     "execution_count": 21,
     "metadata": {},
     "output_type": "execute_result"
    }
   ],
   "source": [
    "np.arccos(R)/np.pi*180        ## y1------>PC1------>y2------>PC2\n",
    "                        ## angles:  beta     gamma     sigma\n",
    "## beta     ?\n",
    "## gamma  sigma"
   ]
  },
  {
   "cell_type": "code",
   "execution_count": 22,
   "id": "bae01e3e-2ad2-49e7-bd4f-696fe7083992",
   "metadata": {},
   "outputs": [
    {
     "data": {
      "text/plain": [
       "matrix([[-1.19256959e+00, -9.93013661e-17],\n",
       "        [-4.47213595e-01,  1.00000000e+00],\n",
       "        [-4.47213595e-01, -1.00000000e+00],\n",
       "        [ 1.04349839e+00,  1.00000000e+00],\n",
       "        [ 1.04349839e+00, -1.00000000e+00]])"
      ]
     },
     "execution_count": 22,
     "metadata": {},
     "output_type": "execute_result"
    }
   ],
   "source": [
    "G = F @ np.diag(1/np.sqrt(L))     ## Scale 2 PC-axis 上样本的坐标\n",
    "G"
   ]
  },
  {
   "cell_type": "code",
   "execution_count": null,
   "id": "fed91e04-11dd-4fd7-acdd-cb8aad6eb75a",
   "metadata": {},
   "outputs": [],
   "source": []
  },
  {
   "cell_type": "markdown",
   "id": "1f366ed7-39ed-410d-891e-5c959b4c0adc",
   "metadata": {},
   "source": [
    "## PCA - for correlation matrix R\n",
    "\n",
    "1. 对Y计算correlation matrix R  for descriptors (而不是上文的Covariance S)，R的对角元素都=1    （p 446）\n",
    "2. 对Y计算标准化后的 Yc = [Y - Y_mean] / s_y\n",
    "3. 对 R 进行分解，得到特征向量的矩阵 U\n",
    "4. F = YcU\n",
    "\n",
    "区别：\n",
    "* R=Z'Z/(n-1)，只是在计算S前加了一步Y标准化\n",
    "* S_eigenvalue 之和 = variance s^2; 但 R_eigenvalue 之和 = p (原始空间维度)\n",
    "* 样本在S所得PC空间保留欧式距离；而在R所得PC空间则不是\n",
    "* 用例：\n",
    "    - S: preserving descriptors’ differences in magnitude\n",
    "    - R: descriptors contribute equally to the clustering of objects\n",
    "\n"
   ]
  },
  {
   "cell_type": "code",
   "execution_count": null,
   "id": "d9c71490-3282-4957-b7b9-188c58a86c21",
   "metadata": {},
   "outputs": [],
   "source": []
  },
  {
   "cell_type": "markdown",
   "id": "c892329f-05f3-4886-ac07-eea4cd32f63d",
   "metadata": {},
   "source": [
    "## 关于Vegan\n",
    "\n",
    "```R\n",
    "library(vegan)\n",
    "A = t(matrix( c(2,3,5,7,9,1,4,0,6,2), ncol = 5,byrow = TRUE))\n",
    "res <- prcomp(A,center = TRUE, scale= FALSE)\n",
    "res$x    ## m_Sample在PC上的坐标\n",
    "res$rotation  ## U\n",
    "```\n",
    "\n",
    "eigenvalue就是各PC所解释的Variance比例（importance）。\n",
    "```\n",
    "> summary(res)$importance\n",
    "                           PC1      PC2\n",
    "Standard deviation     3.00000 2.236068    ---->   sqrt(9)   sqrt(5)\n",
    "Proportion of Variance 0.64286 0.357140    ---->   9/(9+5)   5/(9+5)\n",
    "Cumulative Proportion  0.64286 1.000000\n",
    "```\n"
   ]
  },
  {
   "cell_type": "code",
   "execution_count": null,
   "id": "6ff5a02d-1c55-44ca-bc67-6ac46ea56981",
   "metadata": {},
   "outputs": [],
   "source": []
  },
  {
   "cell_type": "code",
   "execution_count": null,
   "id": "cc198a0f-3b19-44e7-bf9b-e7b55cfee7e9",
   "metadata": {},
   "outputs": [],
   "source": []
  }
 ],
 "metadata": {
  "kernelspec": {
   "display_name": "Python 3 (ipykernel)",
   "language": "python",
   "name": "python3"
  },
  "language_info": {
   "codemirror_mode": {
    "name": "ipython",
    "version": 3
   },
   "file_extension": ".py",
   "mimetype": "text/x-python",
   "name": "python",
   "nbconvert_exporter": "python",
   "pygments_lexer": "ipython3",
   "version": "3.12.1"
  }
 },
 "nbformat": 4,
 "nbformat_minor": 5
}

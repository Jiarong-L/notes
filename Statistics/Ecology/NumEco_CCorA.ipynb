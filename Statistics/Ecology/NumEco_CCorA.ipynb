{
 "cells": [
  {
   "cell_type": "markdown",
   "id": "7a4b5034-81cb-4d34-852e-8c8e4971b6ac",
   "metadata": {},
   "source": [
    "## CCorA\n",
    "\n",
    "maximize the correlation between linear combinations of variables in $Y_1$ and $Y_2$\n",
    "\n",
    "\n",
    "1. $S_{ab}=Y_a'Y_b$\n",
    "\n",
    "2. $K = S_{11}'^{-0.5}S_{12}S_{22}^{-0.5}$ summarizes the correlation structure between data matrices $Y_1$ and $Y_2$\n",
    "\n",
    "3. $K_{P1 \\times p2} = V_{P1 \\times c}W_{c \\times c}U_{c \\times p2}'$\n",
    "    - W 是 cannonical correlations，eigenvalues $\\Lambda = W^2$\n",
    "    - canonical coefficients $Coeff_{Y1}=S_{11}'^{-0.5}V$\n",
    "    - canonical coefficients $Coeff_{Y2}=S_{22}'^{-0.5}U$\n",
    "4. canonical variates: scores of the objects in CA axis\n",
    "    - $C_{Y1} = Y_{1}Coeff_{Y1}$\n",
    "    - $C_{Y2} = Y_{2}Coeff_{Y2}$\n",
    "5. Plot $Y_a$'s variables in space $Y_b$ using $cor(Y_a,C_{Yb})$\n",
    "    - Plot $Y_1$'s variables in space $Y_1$ using $cor(Y_1,C_{Y1})$\n",
    "    - Plot $Y_1$'s variables in space $Y_2$ using $cor(Y_1,C_{Y2})$\n",
    "   "
   ]
  },
  {
   "cell_type": "markdown",
   "id": "8c9ce1e1-53d4-480e-967b-0627711a2e9c",
   "metadata": {},
   "source": [
    "Use statistics derived from MANOVA to test the significance of the canonical correlation between two matrices:\n",
    "\n",
    "* （okay for non-normal data）Pillai’s trace $V=trace(S_{12}S_{22}^{-1}S_{12}'S_{11}^{-1})$ = sum of the canonical eigenvalues\n",
    "\n",
    "确定好statistics后，进行permutation F tests"
   ]
  },
  {
   "cell_type": "code",
   "execution_count": null,
   "id": "92141372-c811-4e41-a1e5-3152f2a3fa95",
   "metadata": {},
   "outputs": [],
   "source": []
  }
 ],
 "metadata": {
  "kernelspec": {
   "display_name": "Python 3 (ipykernel)",
   "language": "python",
   "name": "python3"
  },
  "language_info": {
   "codemirror_mode": {
    "name": "ipython",
    "version": 3
   },
   "file_extension": ".py",
   "mimetype": "text/x-python",
   "name": "python",
   "nbconvert_exporter": "python",
   "pygments_lexer": "ipython3",
   "version": "3.12.1"
  }
 },
 "nbformat": 4,
 "nbformat_minor": 5
}

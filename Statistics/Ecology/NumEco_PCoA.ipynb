{
 "cells": [
  {
   "cell_type": "code",
   "execution_count": 1,
   "id": "dd242c7e-75d9-4f80-817f-778549d692bc",
   "metadata": {},
   "outputs": [],
   "source": [
    "import numpy as np\n",
    "import pandas as pd\n",
    "import scipy.linalg as linalg\n",
    "import torch\n",
    "import matplotlib.pyplot as plt\n",
    "from sklearn.metrics.pairwise import euclidean_distances\n",
    "d=2        ## PC Num\n",
    "n=5        ## sample Num"
   ]
  },
  {
   "cell_type": "markdown",
   "id": "9c9b106f",
   "metadata": {},
   "source": [
    "## 背景知识--MDS\n",
    "\n",
    "假设 $m$ 个样本在原始空间的**距离矩阵** $D \\in R^{m \\times m}$，其 $i$ 行 $j$ 列的元素 $dist_{ij}$ 表示样本 $x_i$ 到 $x_j$ 的距离，多维缩放(Multiple Dimensional Scaling, MDS)的目标是获得样本在 $d'<m$ 维空间的表示，并且**任意样本在低维空间中的距离等于原始空间中的距离**（欧式距离/其它）\n",
    "\n",
    "\n",
    "\n",
    "1. 内积矩阵$B$，其元素 $b_{ij} = -\\frac{1}{2}(dist_{ij}^2-dist_{i-}^2-dist_{-j}^2+dist_{--}^2)$    （Gower’s centring）\n",
    "    - $dist_{i-}^2=\\frac{1}{m}\\sum\\limits_{j=1}^{m}dist_{ij}^2$\n",
    "    - $dist_{-j}^2=\\frac{1}{m}\\sum\\limits_{i=1}^{m}dist_{ij}^2$\n",
    "    - $dist_{--}^2=\\frac{1}{m^2}\\sum\\limits_{i=1}^{m}\\sum\\limits_{j=1}^{m}dist_{ij}^2$\n",
    "\n",
    "2. 对内积矩阵$B$进行特征值分解，取 $\\Lambda$ 为 $d'$ 个最大特征值构成的对角矩阵，$V$ 为相应的特征向量矩阵\n",
    "3. 得到新矩阵 $\\Lambda V^{1/2} \\in R^{m \\times d'}$，每行是一个样本的低维坐标 （Scaling 2）\n"
   ]
  },
  {
   "cell_type": "code",
   "execution_count": null,
   "id": "7a394b09",
   "metadata": {},
   "outputs": [],
   "source": []
  },
  {
   "cell_type": "markdown",
   "id": "55622179-b64b-4107-9bc5-b5fc4b940c0e",
   "metadata": {},
   "source": [
    "## PCoA\n",
    "\n",
    "(Numerical Ecology, ch9.3) 假设有一个Species丰度矩阵Y，每行代表一个样本，每列代表一个descriptor/feature\n",
    "\n",
    "1. 计算距离矩阵D，本例中使用欧氏距离，事实上支持各种距离\n",
    "2. Gower’s centring 得到 A\n",
    "3. 对 A 分解特征值，得到的特征向量U进行Scaling 2后即Sample在PC空间的坐标\n",
    "\n",
    "如果有负的特征值（可能由于欧氏距离不足以描述关系、或者由于处理缺失值的策略），需要修正D直到变成正数:（注意，修正后就不是原来的distance representation了）\n",
    "\n",
    "(Method 1, p502) $D=\\sqrt{D^2+2c_1}$；其中c1是原PCoA所得最负特征值的绝对值\n",
    "\n",
    "(Method 2, p503) $D=D+c_2$；其中c2见当页描述\n"
   ]
  },
  {
   "cell_type": "code",
   "execution_count": 2,
   "id": "66e70a7c-fb97-4f4e-a159-c627ed8a15f0",
   "metadata": {},
   "outputs": [
    {
     "data": {
      "text/plain": [
       "array([[0.        , 3.16227766, 3.16227766, 7.07106781, 7.07106781],\n",
       "       [3.16227766, 0.        , 4.47213595, 4.47213595, 6.32455532],\n",
       "       [3.16227766, 4.47213595, 0.        , 6.32455532, 4.47213595],\n",
       "       [7.07106781, 4.47213595, 6.32455532, 0.        , 4.47213595],\n",
       "       [7.07106781, 6.32455532, 4.47213595, 4.47213595, 0.        ]])"
      ]
     },
     "execution_count": 2,
     "metadata": {},
     "output_type": "execute_result"
    }
   ],
   "source": [
    "Y = np.matrix([[2,3,5,7,9],        ## n=5, feature=2   as in NumEco_PCA.ipynb\n",
    "               [1,4,0,6,2]]).T\n",
    "\n",
    "\n",
    "D = euclidean_distances(np.asarray(Y), np.asarray(Y)) \n",
    "D"
   ]
  },
  {
   "cell_type": "code",
   "execution_count": null,
   "id": "b23f97f6-94e1-4d98-a959-57b749125d06",
   "metadata": {},
   "outputs": [],
   "source": []
  },
  {
   "cell_type": "code",
   "execution_count": 3,
   "id": "a4a99615-8bf0-48b3-931f-5121594d11b7",
   "metadata": {},
   "outputs": [
    {
     "data": {
      "text/plain": [
       "array([[ 12.8,   4.8,   4.8, -11.2, -11.2],\n",
       "       [  4.8,   6.8,  -3.2,   0.8,  -9.2],\n",
       "       [  4.8,  -3.2,   6.8,  -9.2,   0.8],\n",
       "       [-11.2,   0.8,  -9.2,  14.8,   4.8],\n",
       "       [-11.2,  -9.2,   0.8,   4.8,  14.8]])"
      ]
     },
     "execution_count": 3,
     "metadata": {},
     "output_type": "execute_result"
    }
   ],
   "source": [
    "A = - D * D / 2 \n",
    "A = A - np.array([A.mean(0)] *n).T - np.array([A.mean(1)] *n) + A.mean()         ## Gower’s centring\n",
    "# A = np.matrix(A)\n",
    "A"
   ]
  },
  {
   "cell_type": "code",
   "execution_count": 4,
   "id": "09676efe-8acd-411e-a3d7-8f5db2db23c3",
   "metadata": {},
   "outputs": [
    {
     "data": {
      "text/plain": [
       "(array([36., 20.]),\n",
       " array([[-5.96284794e-01, -4.36645107e-16],\n",
       "        [-2.23606798e-01, -5.00000000e-01],\n",
       "        [-2.23606798e-01,  5.00000000e-01],\n",
       "        [ 5.21749195e-01, -5.00000000e-01],\n",
       "        [ 5.21749195e-01,  5.00000000e-01]]))"
      ]
     },
     "execution_count": 4,
     "metadata": {},
     "output_type": "execute_result"
    }
   ],
   "source": [
    "L, U = linalg.eigh(A)\n",
    "L = L[::-1]                  ## np.argsort(L)[::-1]  to descending order\n",
    "U = U[:,::-1]               \n",
    "\n",
    "L = L[:d]\n",
    "U = U[:,:d]\n",
    "\n",
    "L,U       "
   ]
  },
  {
   "cell_type": "code",
   "execution_count": 5,
   "id": "db5d5dec-23b1-4293-97a9-b61cd21118dc",
   "metadata": {},
   "outputs": [
    {
     "data": {
      "text/plain": [
       "array([9., 5.])"
      ]
     },
     "execution_count": 5,
     "metadata": {},
     "output_type": "execute_result"
    }
   ],
   "source": [
    "L/(n-1)                  ## eigvalues of corresponding PCA"
   ]
  },
  {
   "cell_type": "markdown",
   "id": "8d1af700-ce80-4a4c-93a6-7f2909ad4e01",
   "metadata": {},
   "source": [
    "### Scaling 2"
   ]
  },
  {
   "cell_type": "code",
   "execution_count": 6,
   "id": "e0c1097f-e523-4450-afd5-1664a01158c7",
   "metadata": {},
   "outputs": [
    {
     "data": {
      "text/plain": [
       "array([[-3.57770876e+00, -1.95273628e-15],\n",
       "       [-1.34164079e+00, -2.23606798e+00],\n",
       "       [-1.34164079e+00,  2.23606798e+00],\n",
       "       [ 3.13049517e+00, -2.23606798e+00],\n",
       "       [ 3.13049517e+00,  2.23606798e+00]])"
      ]
     },
     "execution_count": 6,
     "metadata": {},
     "output_type": "execute_result"
    }
   ],
   "source": [
    "U_ = U @ np.diag(np.sqrt(L))      ## samples 在 PC轴中的坐标\n",
    "U_"
   ]
  },
  {
   "cell_type": "code",
   "execution_count": null,
   "id": "989068c1-df24-4fe0-ad3a-918075bfcb5d",
   "metadata": {},
   "outputs": [],
   "source": []
  },
  {
   "cell_type": "code",
   "execution_count": null,
   "id": "5829b633-ad9d-4358-9f39-b0a15d220e7a",
   "metadata": {},
   "outputs": [],
   "source": []
  },
  {
   "cell_type": "markdown",
   "id": "b793a4fb-99c8-486e-957a-1cd0c6750559",
   "metadata": {},
   "source": [
    "## 关于Vegan\n",
    "\n",
    "```R\n",
    "library(vegan)\n",
    "Y = t(matrix( c(2,3,5,7,9,1,4,0,6,2), ncol = 5,byrow = TRUE))\n",
    "D <- dist(Y)\n",
    "res <- cmdscale(D,k=2,eig = TRUE)\n",
    "```\n",
    "\n",
    "结果：\n",
    "```R\n",
    "> res$points\n",
    "          [,1]          [,2]\n",
    "[1,] -3.577709  1.569229e-15\n",
    "[2,] -1.341641  2.236068e+00\n",
    "[3,] -1.341641 -2.236068e+00\n",
    "[4,]  3.130495  2.236068e+00\n",
    "[5,]  3.130495 -2.236068e+00\n",
    "> res$eig\n",
    "[1]  3.600000e+01  2.000000e+01  6.445720e-15 -3.552714e-15 -9.394806e-15\n",
    "```\n",
    "\n"
   ]
  },
  {
   "cell_type": "code",
   "execution_count": null,
   "id": "477059f8-a1c4-4a8b-9de6-55a163b83eb7",
   "metadata": {},
   "outputs": [],
   "source": []
  }
 ],
 "metadata": {
  "kernelspec": {
   "display_name": "Python 3 (ipykernel)",
   "language": "python",
   "name": "python3"
  },
  "language_info": {
   "codemirror_mode": {
    "name": "ipython",
    "version": 3
   },
   "file_extension": ".py",
   "mimetype": "text/x-python",
   "name": "python",
   "nbconvert_exporter": "python",
   "pygments_lexer": "ipython3",
   "version": "3.12.1"
  }
 },
 "nbformat": 4,
 "nbformat_minor": 5
}

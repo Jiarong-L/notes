{
 "cells": [
  {
   "cell_type": "markdown",
   "id": "a676bb80",
   "metadata": {},
   "source": [
    "### load mol"
   ]
  },
  {
   "cell_type": "code",
   "execution_count": 2,
   "id": "fe279bf8",
   "metadata": {},
   "outputs": [
    {
     "data": {
      "application/vnd.jupyter.widget-view+json": {
       "model_id": "0d03b629286046ad828152c228e54998",
       "version_major": 2,
       "version_minor": 0
      },
      "text/plain": [
       "NGLWidget()"
      ]
     },
     "metadata": {},
     "output_type": "display_data"
    }
   ],
   "source": [
    "import nglview\n",
    "from rdkit import Chem\n",
    "from rdkit.Chem import AllChem\n",
    "\n",
    "m = Chem.MolFromFASTA('>aa\\nTCGA\\n',flavor=7)\n",
    "m = Chem.AddHs(m)\n",
    "\n",
    "AllChem.EmbedMolecule(m, randomSeed=3)       ## 通过距离几何算法计算3D坐标\n",
    "AllChem.MMFFOptimizeMolecule(m)              ## 力场优化\n",
    "\n",
    "_ = AllChem.EmbedMultipleConfs(m, useExpTorsionAnglePrefs=True, useBasicKnowledge=True)\n",
    "view = nglview.show_rdkit(m)\n",
    "view"
   ]
  },
  {
   "cell_type": "markdown",
   "id": "574779fa",
   "metadata": {},
   "source": [
    "### Load pdb"
   ]
  },
  {
   "cell_type": "code",
   "execution_count": 3,
   "id": "d7c77498",
   "metadata": {},
   "outputs": [
    {
     "data": {
      "application/vnd.jupyter.widget-view+json": {
       "model_id": "592273e85f944cdaba2537e82be0e412",
       "version_major": 2,
       "version_minor": 0
      },
      "text/plain": [
       "NGLWidget()"
      ]
     },
     "metadata": {},
     "output_type": "display_data"
    }
   ],
   "source": [
    "import nglview\n",
    "\n",
    "# view = nglview.show_file('http://www.rcsb.org/pdb/files/1oky.pdb')  ## or local\n",
    "view = nglview.show_pdbid('1oky')\n",
    "\n",
    "view                   ## can rotate/zoom"
   ]
  },
  {
   "cell_type": "code",
   "execution_count": null,
   "id": "4af2ccb7",
   "metadata": {},
   "outputs": [],
   "source": []
  },
  {
   "cell_type": "code",
   "execution_count": null,
   "id": "df413752",
   "metadata": {},
   "outputs": [],
   "source": []
  },
  {
   "cell_type": "code",
   "execution_count": null,
   "id": "0bca0a1d",
   "metadata": {},
   "outputs": [],
   "source": []
  },
  {
   "cell_type": "code",
   "execution_count": null,
   "id": "a95ce98a",
   "metadata": {},
   "outputs": [],
   "source": []
  }
 ],
 "metadata": {
  "kernelspec": {
   "display_name": "Python 3 (ipykernel)",
   "language": "python",
   "name": "python3"
  },
  "language_info": {
   "codemirror_mode": {
    "name": "ipython",
    "version": 3
   },
   "file_extension": ".py",
   "mimetype": "text/x-python",
   "name": "python",
   "nbconvert_exporter": "python",
   "pygments_lexer": "ipython3",
   "version": "3.10.8"
  }
 },
 "nbformat": 4,
 "nbformat_minor": 5
}

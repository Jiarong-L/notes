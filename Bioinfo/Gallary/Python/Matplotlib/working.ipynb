{
 "cells": [
  {
   "cell_type": "code",
   "execution_count": null,
   "id": "d62e91ad",
   "metadata": {},
   "outputs": [],
   "source": [
    "# ## https://biopython-cn.readthedocs.io/zh_CN/latest/cn/chr11.html\n",
    "# from Bio.PDB.PDBParser import PDBParser\n",
    "\n",
    "# p = PDBParser()\n",
    "# s = p.get_structure('7n0r','7n0r.pdb')\n",
    "\n",
    "# s"
   ]
  },
  {
   "cell_type": "code",
   "execution_count": null,
   "id": "8c8cf2cf",
   "metadata": {},
   "outputs": [],
   "source": [
    "# pie_values = [33,1,1,54,7,8,1,1,33,1,1,54,7,4,1,7,4,1,1,1,1,1,1,1,1,1,1,1,1,1,1,1,1]\n",
    "# pie_labels = ['Spe Axxxxxxxx {}'.format(i+1) for i in range(len(pie_values))]\n",
    "# title_text = 'Phylum XXX'\n",
    "\n",
    "\n",
    "# fig, axes = plt.subplots(1, 3, figsize=(3*3, 3))\n",
    "\n",
    "# wedges_0 = donut_pie(axes[0],pie_values,pie_labels,title_text,startangle = -40,anno_arrowprops = False)\n",
    "# wedges_1 = donut_pie(axes[1],pie_values,pie_labels,title_text,startangle = -40,anno_arrowprops = False)\n",
    "# wedges_2 = donut_pie(axes[2],pie_values,pie_labels,title_text,startangle = -40,anno_arrowprops = False)\n",
    "\n",
    "\n",
    "\n",
    "# top_xyB,bottom_xyB = cal_pie_wedge_bounds(wedges_0[0])  \n",
    "# top_xyA = (-1,1)\n",
    "# bottom_xyA= (-1,-1)\n",
    "\n",
    "# connect_axes(axes[0],axes[1],top_xyA,top_xyB,[0, 0, 0],2)\n",
    "# connect_axes(axes[0],axes[1],bottom_xyA,bottom_xyB,[0, 0, 0],2)"
   ]
  },
  {
   "cell_type": "code",
   "execution_count": 2,
   "id": "196146a1",
   "metadata": {},
   "outputs": [],
   "source": [
    "import matplotlib.pyplot as plt\n",
    "from matplotlib.patches import ConnectionPatch\n",
    "import numpy as np\n",
    "from matplotlib import cycler\n",
    "from ploting_func import *\n",
    "\n",
    "%matplotlib inline\n",
    "\n",
    "from matplotlib.patches import Ellipse\n"
   ]
  },
  {
   "cell_type": "code",
   "execution_count": null,
   "id": "f972dcc0",
   "metadata": {},
   "outputs": [],
   "source": [
    "import pandas as pd"
   ]
  },
  {
   "cell_type": "code",
   "execution_count": null,
   "id": "944846ee",
   "metadata": {},
   "outputs": [],
   "source": []
  },
  {
   "cell_type": "code",
   "execution_count": null,
   "id": "c3d74555",
   "metadata": {},
   "outputs": [],
   "source": []
  },
  {
   "cell_type": "code",
   "execution_count": null,
   "id": "6724fe3a",
   "metadata": {},
   "outputs": [],
   "source": []
  },
  {
   "cell_type": "code",
   "execution_count": null,
   "id": "b0381943",
   "metadata": {},
   "outputs": [],
   "source": []
  },
  {
   "cell_type": "code",
   "execution_count": null,
   "id": "889324b0",
   "metadata": {},
   "outputs": [],
   "source": [
    "import numpy as np\n",
    "import matplotlib.pyplot as plt\n",
    "import matplotlib.animation as animation\n",
    "from matplotlib.patches import ConnectionPatch\n",
    "\n",
    "fig, (axl, axr) = plt.subplots(\n",
    "    ncols=2,\n",
    "    sharey=True,\n",
    "    figsize=(6, 2),\n",
    "    gridspec_kw=dict(width_ratios=[1, 3], wspace=0),\n",
    ")\n",
    "axl.set_aspect(1)\n",
    "axr.set_box_aspect(1 / 3)\n",
    "axr.yaxis.set_visible(False)\n",
    "axr.xaxis.set_ticks([0, np.pi, 2 * np.pi], [\"0\", r\"$\\pi$\", r\"$2\\pi$\"])\n",
    "\n",
    "# draw circle with initial point in left Axes\n",
    "x = np.linspace(0, 2 * np.pi, 50)\n",
    "axl.plot(np.cos(x), np.sin(x), \"k\", lw=0.3)\n",
    "point, = axl.plot(0, 0, \"o\")\n",
    "\n",
    "# draw full curve to set view limits in right Axes\n",
    "sine, = axr.plot(x, np.sin(x))\n",
    "\n",
    "# draw connecting line between both graphs\n",
    "con = ConnectionPatch(\n",
    "    (1, 0),\n",
    "    (0, 0),\n",
    "    \"data\",\n",
    "    \"data\",\n",
    "    axesA=axl,\n",
    "    axesB=axr,\n",
    "    color=\"C0\",\n",
    "    ls=\"dotted\",\n",
    ")\n",
    "fig.add_artist(con)\n",
    "\n",
    "\n",
    "def animate(i):\n",
    "    x = np.linspace(0, i, int(i * 25 / np.pi))\n",
    "    sine.set_data(x, np.sin(x))\n",
    "    x, y = np.cos(i), np.sin(i)\n",
    "    point.set_data([x], [y])\n",
    "    con.xy1 = x, y\n",
    "    con.xy2 = i, y\n",
    "    return point, sine, con\n",
    "\n",
    "\n",
    "ani = animation.FuncAnimation(\n",
    "    fig,\n",
    "    animate,\n",
    "    interval=50,\n",
    "    blit=False,  # blitting can't be used with Figure artists\n",
    "    frames=x,\n",
    "    repeat_delay=100,\n",
    ")\n",
    "\n",
    "plt.show()"
   ]
  },
  {
   "cell_type": "code",
   "execution_count": null,
   "id": "ca307db5",
   "metadata": {},
   "outputs": [],
   "source": []
  },
  {
   "cell_type": "code",
   "execution_count": null,
   "id": "0384d227",
   "metadata": {},
   "outputs": [],
   "source": []
  },
  {
   "cell_type": "code",
   "execution_count": null,
   "id": "ae8bb2de",
   "metadata": {},
   "outputs": [],
   "source": []
  },
  {
   "cell_type": "code",
   "execution_count": null,
   "id": "1b1167bd",
   "metadata": {},
   "outputs": [],
   "source": [
    "FuncAnimation?"
   ]
  },
  {
   "cell_type": "code",
   "execution_count": 44,
   "id": "5ea31f9a",
   "metadata": {},
   "outputs": [
    {
     "data": {
      "image/png": "[encoded data removed]",
      "text/plain": [
       "<Figure size 600x200 with 2 Axes>"
      ]
     },
     "metadata": {},
     "output_type": "display_data"
    }
   ],
   "source": [
    "from matplotlib.animation import FuncAnimation\n",
    "from scipy.stats import binom\n",
    "\n",
    "fig, (ax1, ax2) = plt.subplots(\n",
    "    ncols=2,\n",
    "    sharey=False,\n",
    "    figsize=(6, 2),\n",
    "    gridspec_kw=dict(width_ratios=[1, 2], wspace=0),\n",
    ")\n",
    "\n",
    "## Init objects to be updated at each frame\n",
    "point, = ax1.plot(0, 0, marker='o')\n",
    "line_pmf,  = ax2.plot([k for k in range(100)], [0 for k in range(100)], lw=3)\n",
    "\n",
    "## optional\n",
    "def animate_init():\n",
    "    point, = ax1.plot(0, 0, marker='o')\n",
    "    line_pmf,  = ax2.plot([k for k in range(100)], [0 for k in range(100)], lw=3)\n",
    "    ax1.set_xlim(0,1)\n",
    "    ax1.set_ylim(0,1)\n",
    "    ax2.set_ylim(0,0.5)\n",
    "    \n",
    "## what to plot at each frame;  i:value of frames\n",
    "def animate_func(i): \n",
    "    x = [k for k in range(100)]\n",
    "    y_pmf = [binom.pmf(k=k,n=100,p=i) for k in x]\n",
    "    y_cdf = [binom.cdf(k=k,n=100,p=i) for k in x]\n",
    "    point.set_data(0.5,i)\n",
    "    line_pmf.set_data(x,y_pmf)\n",
    "\n",
    "\n",
    "ani = FuncAnimation(fig,\n",
    "                    animate_func,\n",
    "                    frames=[i*0.01 for i in range(101)],\n",
    "                    init_func=animate_init,\n",
    "                    fargs=None,\n",
    "                    save_count=None,\n",
    "                    cache_frame_data=True)\n",
    "\n",
    "ani.save('img/animation.gif', fps=25, writer='pillow')"
   ]
  },
  {
   "cell_type": "code",
   "execution_count": null,
   "id": "9fc6d232",
   "metadata": {},
   "outputs": [],
   "source": []
  },
  {
   "cell_type": "code",
   "execution_count": null,
   "id": "63642df6",
   "metadata": {},
   "outputs": [],
   "source": []
  }
 ],
 "metadata": {
  "kernelspec": {
   "display_name": "Python 3 (ipykernel)",
   "language": "python",
   "name": "python3"
  },
  "language_info": {
   "codemirror_mode": {
    "name": "ipython",
    "version": 3
   },
   "file_extension": ".py",
   "mimetype": "text/x-python",
   "name": "python",
   "nbconvert_exporter": "python",
   "pygments_lexer": "ipython3",
   "version": "3.10.8"
  }
 },
 "nbformat": 4,
 "nbformat_minor": 5
}

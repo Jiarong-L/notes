{
 "cells": [
  {
   "cell_type": "markdown",
   "id": "e18c07de",
   "metadata": {},
   "source": [
    "# 调整matplotlib中常用绘图\n",
    "\n",
    "记得： plt.close(fig)  \n",
    "savefig时候：bbox_inches='tight'   \n",
    "\n",
    "文字大小： 放大缩小figsize   \n",
    "  \n",
    "文本类别设置：https://blog.csdn.net/weixin_44830542/article/details/111025959  \n",
    "categorical-encoding: https://www.geeksforgeeks.org/python-categorical-encoding-using-sunbird/\n",
    "\n",
    "### TODO：  \n",
    "* 动态导入模块\n",
    "* 上传PIPY\n"
   ]
  },
  {
   "cell_type": "code",
   "execution_count": 2,
   "id": "1a7df255",
   "metadata": {},
   "outputs": [],
   "source": [
    "import numpy as np\n",
    "import pandas as pd\n",
    "import matplotlib.pyplot as plt\n",
    "from matplotlib import cycler\n",
    "import seaborn as sns\n",
    "from ploting_func import *\n",
    "\n",
    "%matplotlib inline"
   ]
  },
  {
   "cell_type": "markdown",
   "id": "08ab946c",
   "metadata": {},
   "source": [
    "## 设置默认颜色\n",
    "https://www.jianshu.com/p/b0516dd3de13   \n",
    "color：  https://matplotlib.org/stable/gallery/color/named_colors.html#sphx-glr-gallery-color-named-colors-py\n",
    "\n",
    "opt1： plt.style.use('ggplot')   \n",
    "opt2： plt.cycler + plt.rc"
   ]
  },
  {
   "cell_type": "code",
   "execution_count": null,
   "id": "46de1aed",
   "metadata": {},
   "outputs": [],
   "source": [
    "# plt.style.use('ggplot')\n",
    "# 设置cycler，可以设置不同的颜色循环\n",
    "cycler_colors = plt.cycler(color=['#FF0000', '#4169E1', '#9988DD','#EECC55', '#88BB44', '#FFBBBB'])\n",
    "# 设置子图样式\n",
    "plt.rc('axes', facecolor='black', edgecolor='b',prop_cycle=cycler_colors)"
   ]
  },
  {
   "cell_type": "code",
   "execution_count": null,
   "id": "efd0d684",
   "metadata": {},
   "outputs": [],
   "source": []
  },
  {
   "cell_type": "markdown",
   "id": "603a9b60",
   "metadata": {},
   "source": [
    "## Subplots"
   ]
  },
  {
   "cell_type": "code",
   "execution_count": null,
   "id": "1e920d3c",
   "metadata": {},
   "outputs": [],
   "source": [
    "fig, (axl, ax2) = plt.subplots(\n",
    "    ncols=2,\n",
    "    sharey=True,\n",
    "    figsize=(6, 2),\n",
    "    gridspec_kw=dict(width_ratios=[1, 3], wspace=0),\n",
    ")\n",
    "\n",
    "x = np.linspace(0, 2 * np.pi, 50)\n",
    "axl.plot(np.cos(x), np.sin(x), \"k\", lw=0.3)\n",
    "ax2.plot(x, np.sin(x), \"k\", lw=0.3)\n",
    "plt.close(fig)\n",
    "fig"
   ]
  },
  {
   "cell_type": "code",
   "execution_count": null,
   "id": "9ba98b06",
   "metadata": {},
   "outputs": [],
   "source": []
  },
  {
   "cell_type": "markdown",
   "id": "e9b60afe",
   "metadata": {},
   "source": [
    "## bar of pie"
   ]
  },
  {
   "cell_type": "code",
   "execution_count": null,
   "id": "d16dcdcb",
   "metadata": {},
   "outputs": [],
   "source": [
    "\n",
    "## Example Input\n",
    "pie_values = [271,560,170]\n",
    "pie_labels = ['Phylum A', 'Phylum B', 'Unspecified']\n",
    "bar_values = [33,1,1,54,7,8,1,1,33,1,1,54,7,4,1,7,4,1,1]\n",
    "bar_labels = ['Spe {}'.format(i+1) for i in range(len(bar_values))]\n",
    "\n",
    "\n",
    "## Plot and save\n",
    "fig = bar_of_pie_plot(pie_values,pie_labels,bar_values,bar_labels,\n",
    "                    figsize=(9, 5),\n",
    "                    con_color = [0,0,0], ## R G B\n",
    "                    con_linewidth = 1.5,\n",
    "                    anno_y_min_gap = 0.05,    ## prevent label text overlap, adjust on y axis & decide if to show bar_label\n",
    "                    sort_bar_values = True\n",
    "                    )\n",
    "fig.savefig('img/bar_of_pie_plot.png',bbox_inches='tight')\n",
    "plt.close(fig)\n",
    "fig"
   ]
  },
  {
   "cell_type": "markdown",
   "id": "79a91b60",
   "metadata": {},
   "source": [
    "## donut_pie\n",
    "https://matplotlib.org/stable/gallery/pie_and_polar_charts/pie_and_donut_labels.html"
   ]
  },
  {
   "cell_type": "code",
   "execution_count": null,
   "id": "aad65f46",
   "metadata": {},
   "outputs": [],
   "source": [
    "## Example Input\n",
    "pie_values = [33,1,1,54,7,8,1,1,33,1,1,54,7,4,1,7,4,1,1,1,1,1,1,1,1,1,1,1,1,1,1,1,1]\n",
    "pie_labels = ['Spe Axxxxxxxx {}'.format(i+1) for i in range(len(pie_values))]\n",
    "title_text = 'Phylum XXX'\n",
    "\n",
    "## Plot and save\n",
    "fig = donut_pie_plot(pie_values,pie_labels,title_text,\n",
    "                   figsize=(6, 3),\n",
    "                   title_fontsize = 15, \n",
    "                   startangle = 0,\n",
    "                   donut_width = 0.5,      ## pie: 1\n",
    "                   connectionstyle='arc3', ## bar arc 'angle' angle3  arc3\n",
    "                   text_min_ang = 360*0.02,\n",
    "                   sort_values = True\n",
    "                  )\n",
    "plt.savefig('img/donut_pie_plot.png',bbox_inches='tight')\n",
    "plt.close(fig)\n",
    "fig"
   ]
  },
  {
   "cell_type": "code",
   "execution_count": null,
   "id": "b7d47fcf",
   "metadata": {},
   "outputs": [],
   "source": []
  },
  {
   "cell_type": "markdown",
   "id": "2d87c5f1",
   "metadata": {},
   "source": [
    "## Heatmap\n",
    "sns"
   ]
  },
  {
   "cell_type": "code",
   "execution_count": null,
   "id": "f91741a0",
   "metadata": {},
   "outputs": [],
   "source": [
    "df = pd.DataFrame(np.random.randint(1,100,size = (8, 5)),\n",
    "                  columns=['col_{}'.format(i) for i in range(5)],\n",
    "                  index=['idx_{}'.format(i) for i in range(8)])\n",
    "fig = sns.clustermap(df, figsize=(3, 3))\n",
    "plt.savefig('img/heatmap.png',bbox_inches='tight')"
   ]
  },
  {
   "cell_type": "code",
   "execution_count": null,
   "id": "9e948712",
   "metadata": {},
   "outputs": [],
   "source": []
  },
  {
   "cell_type": "markdown",
   "id": "bcf2a63c",
   "metadata": {},
   "source": [
    "## Multiple axes animation\n",
    "https://matplotlib.org/stable/gallery/animation/multiple_axes.html#sphx-glr-gallery-animation-multiple-axes-py  \n",
    "https://zhuanlan.zhihu.com/p/442932579"
   ]
  },
  {
   "cell_type": "code",
   "execution_count": 3,
   "id": "2385947e",
   "metadata": {},
   "outputs": [],
   "source": [
    "from matplotlib.animation import FuncAnimation\n",
    "from scipy.stats import binom\n",
    "\n",
    "fig, (ax1, ax2) = plt.subplots(\n",
    "    ncols=2,\n",
    "    sharey=False,\n",
    "    figsize=(6, 2),\n",
    "    gridspec_kw=dict(width_ratios=[1, 2], wspace=0),\n",
    ")\n",
    "\n",
    "## Init objects to be updated at each frame\n",
    "### if Init with values, x/ylim will be calculated based on that\n",
    "point, = ax1.plot([], [], marker='o')\n",
    "point_line, = ax1.plot([], [], marker='o')\n",
    "line_pmf,  = ax2.plot([], [], lw=3)\n",
    "\n",
    "## optional\n",
    "def animate_init():\n",
    "    point.set_data(0,0)\n",
    "    point_line.set_data([0],[0])\n",
    "    line_pmf.set_data([k for k in range(100)], [0 for k in range(100)])\n",
    "    ax1.set_xlim(0,1)\n",
    "    ax1.set_ylim(0,1)\n",
    "    ax2.set_ylim(0,0.5)\n",
    "    ax2.set_xlim(0,100)\n",
    "    \n",
    "## what to plot at each frame;  i:value of frames\n",
    "def animate_func(i): \n",
    "    x = [k for k in range(100)]\n",
    "    y_pmf = [binom.pmf(k=k,n=100,p=i) for k in x]\n",
    "    point.set_data(0.3,i)\n",
    "    point_line.set_data(0.6,[ii*0.01 for ii in range(101)if ii*0.01<=i])\n",
    "    line_pmf.set_data(x,y_pmf)\n",
    "\n",
    "\n",
    "ani = FuncAnimation(fig,\n",
    "                    animate_func,\n",
    "                    frames=[i*0.01 for i in range(101)],\n",
    "                    init_func=animate_init,\n",
    "                    fargs=None,\n",
    "                    save_count=None,\n",
    "                    cache_frame_data=True)\n",
    "\n",
    "ani.save('img/animation.gif', fps=25, writer='pillow')\n",
    "plt.close()"
   ]
  },
  {
   "cell_type": "code",
   "execution_count": null,
   "id": "53985205",
   "metadata": {},
   "outputs": [],
   "source": []
  },
  {
   "cell_type": "markdown",
   "id": "4c7ca863",
   "metadata": {},
   "source": [
    "## UpSet Plot\n",
    "https://mp.weixin.qq.com/s?__biz=MzIxNzc1Mzk3NQ==&mid=2247484072&idx=1&sn=5f8f81308777535984b0565110db7192&chksm=97f5b2b0a0823ba68554e8dd023b461cd757f741da0b20847f62a75ec901ccf31b67b84ec850&token=66128012&lang=zh_CN&scene=21#wechat_redirect"
   ]
  },
  {
   "cell_type": "code",
   "execution_count": null,
   "id": "7b7950ed",
   "metadata": {},
   "outputs": [],
   "source": []
  },
  {
   "cell_type": "code",
   "execution_count": null,
   "id": "4e4fc104",
   "metadata": {},
   "outputs": [],
   "source": []
  },
  {
   "cell_type": "code",
   "execution_count": null,
   "id": "6d70c46c",
   "metadata": {},
   "outputs": [],
   "source": []
  },
  {
   "cell_type": "code",
   "execution_count": null,
   "id": "cec592d6",
   "metadata": {},
   "outputs": [],
   "source": []
  },
  {
   "cell_type": "code",
   "execution_count": null,
   "id": "6288a122",
   "metadata": {},
   "outputs": [],
   "source": []
  },
  {
   "cell_type": "code",
   "execution_count": null,
   "id": "a1e890a4",
   "metadata": {},
   "outputs": [],
   "source": []
  },
  {
   "cell_type": "markdown",
   "id": "29c59a77",
   "metadata": {},
   "source": [
    "## 绘制二维数据集的置信椭圆\n",
    "https://www.osgeo.cn/matplotlib/gallery/statistics/confidence_ellipse.html\n",
    "\n",
    "\n",
    "https://blog.csdn.net/woodcorpse/article/details/106552532\n",
    "\n",
    "使用二维数据集的pearson相关系数绘制置信椭圆"
   ]
  },
  {
   "cell_type": "code",
   "execution_count": null,
   "id": "929475d9",
   "metadata": {},
   "outputs": [],
   "source": []
  },
  {
   "cell_type": "code",
   "execution_count": null,
   "id": "302e1029",
   "metadata": {},
   "outputs": [],
   "source": []
  },
  {
   "cell_type": "code",
   "execution_count": null,
   "id": "330a18fa",
   "metadata": {},
   "outputs": [],
   "source": []
  },
  {
   "cell_type": "markdown",
   "id": "390d168a",
   "metadata": {},
   "source": [
    "## 多元线性回归\n",
    "https://zhuanlan.zhihu.com/p/310267224\n",
    "\n",
    "https://blog.csdn.net/qq_42862437/article/details/124454098\n",
    "\n",
    "https://zhuanlan.zhihu.com/p/507472233"
   ]
  },
  {
   "cell_type": "code",
   "execution_count": null,
   "id": "39a4358c",
   "metadata": {},
   "outputs": [],
   "source": []
  },
  {
   "cell_type": "code",
   "execution_count": null,
   "id": "39c56439",
   "metadata": {},
   "outputs": [],
   "source": []
  },
  {
   "cell_type": "markdown",
   "id": "84296f5f",
   "metadata": {},
   "source": [
    "## 孟德尔随机化\n",
    "https://zhuanlan.zhihu.com/p/378414911\n",
    "\n"
   ]
  },
  {
   "cell_type": "code",
   "execution_count": null,
   "id": "e4575998",
   "metadata": {},
   "outputs": [],
   "source": []
  },
  {
   "cell_type": "code",
   "execution_count": null,
   "id": "09a282e0",
   "metadata": {},
   "outputs": [],
   "source": []
  },
  {
   "cell_type": "code",
   "execution_count": null,
   "id": "6f375883",
   "metadata": {},
   "outputs": [],
   "source": []
  },
  {
   "cell_type": "code",
   "execution_count": null,
   "id": "57d35d8e",
   "metadata": {},
   "outputs": [],
   "source": []
  },
  {
   "cell_type": "code",
   "execution_count": null,
   "id": "6a90e7e2",
   "metadata": {},
   "outputs": [],
   "source": []
  },
  {
   "cell_type": "code",
   "execution_count": null,
   "id": "de341553",
   "metadata": {},
   "outputs": [],
   "source": []
  }
 ],
 "metadata": {
  "kernelspec": {
   "display_name": "Python 3 (ipykernel)",
   "language": "python",
   "name": "python3"
  },
  "language_info": {
   "codemirror_mode": {
    "name": "ipython",
    "version": 3
   },
   "file_extension": ".py",
   "mimetype": "text/x-python",
   "name": "python",
   "nbconvert_exporter": "python",
   "pygments_lexer": "ipython3",
   "version": "3.10.8"
  }
 },
 "nbformat": 4,
 "nbformat_minor": 5
}
